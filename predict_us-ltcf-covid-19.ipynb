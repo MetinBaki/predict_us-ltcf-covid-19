{
 "cells": [
  {
   "cell_type": "markdown",
   "metadata": {},
   "source": [
    "# The Predictability of COVID-19 Cases in US Nursing Homes"
   ]
  },
  {
   "cell_type": "markdown",
   "metadata": {},
   "source": [
    "The focus of this project is to identify factors that cause COVID-19 outbreaks in nursing homes and to provide an exemplary concept for the application of the findings using machine learning algorithms to allow future research to derive appropriate countermeasures for practice."
   ]
  },
  {
   "cell_type": "markdown",
   "metadata": {},
   "source": [
    "## 1 Import Python Libraries"
   ]
  },
  {
   "cell_type": "code",
   "execution_count": 1,
   "metadata": {},
   "outputs": [],
   "source": [
    "# Ignoring all warnings\n",
    "import warnings\n",
    "warnings.filterwarnings('ignore')"
   ]
  },
  {
   "cell_type": "code",
   "execution_count": 2,
   "metadata": {},
   "outputs": [
    {
     "name": "stderr",
     "output_type": "stream",
     "text": [
      "Using TensorFlow backend.\n"
     ]
    }
   ],
   "source": [
    "import numpy as np\n",
    "from numpy import mean, std\n",
    "import pandas as pd\n",
    "\n",
    "import datetime\n",
    "import ipywidgets as widgets\n",
    "import missingno as msno\n",
    "\n",
    "import seaborn as sns\n",
    "import matplotlib.pyplot as plt\n",
    "\n",
    "from sklearn.preprocessing import LabelEncoder, StandardScaler\n",
    "from sklearn.model_selection import train_test_split\n",
    "\n",
    "from sklearn.linear_model import LogisticRegression\n",
    "from sklearn.neighbors import KNeighborsClassifier\n",
    "from sklearn.svm import SVC\n",
    "from sklearn.naive_bayes import GaussianNB\n",
    "from sklearn.tree import DecisionTreeClassifier\n",
    "from sklearn.ensemble import RandomForestClassifier, StackingClassifier\n",
    "\n",
    "import tensorflow as tf\n",
    "from tensorflow import keras\n",
    "from keras.models import Sequential\n",
    "from keras.layers import Dense, Dropout\n",
    "\n",
    "from sklearn import metrics\n",
    "from sklearn.model_selection import GridSearchCV, cross_val_score, KFold\n",
    "from sklearn.metrics import confusion_matrix, precision_score, recall_score, precision_recall_curve\n",
    "from sklearn.metrics import roc_curve, roc_auc_score, f1_score"
   ]
  },
  {
   "cell_type": "code",
   "execution_count": 3,
   "metadata": {},
   "outputs": [],
   "source": [
    "# Adjusting the visualisation settings of Pandas\n",
    "pd.options.display.float_format = \"{:.4f}\".format\n",
    "pd.set_option('display.max_columns', 50)\n",
    "\n",
    "# Calling one of IPython's predefined ‘magic functions’ to include matplotlib graphs in notebook\n",
    "%matplotlib inline"
   ]
  },
  {
   "cell_type": "markdown",
   "metadata": {},
   "source": [
    "## 2 Load Data Sets with Pre-selected Features into Pandas"
   ]
  },
  {
   "cell_type": "markdown",
   "metadata": {},
   "source": [
    "### 2.1 Provider Info"
   ]
  },
  {
   "cell_type": "markdown",
   "metadata": {},
   "source": [
    "General information on currently active nursing homes, including number of certified beds, quality measure scores, staffing and other information used in the Five-Star Rating System. Data are presented as one row per nursing home.\n",
    "\n",
    "Data Retreived: August 20, 2020\n",
    "\n",
    "Source: https://data.medicare.gov/Nursing-Home-Compare/Provider-Info/4pq5-n9py"
   ]
  },
  {
   "cell_type": "code",
   "execution_count": 4,
   "metadata": {},
   "outputs": [],
   "source": [
    "df_nh = pd.read_csv(\"01_Original Data/Provider_Info.csv\",usecols=['Federal Provider Number',\n",
    "                                                                  'Provider Zip Code',\n",
    "                                                                  'Ownership Type',\n",
    "                                                                  'Date First Approved to Provide Medicare and Medicaid services',\n",
    "                                                                  'Overall Rating', \n",
    "                                                                  'Reported RN Staffing Hours per Resident per Day',\n",
    "                                                                  'Reported Total Nurse Staffing Hours per Resident per Day',\n",
    "                                                                  'Total Amount of Fines in Dollars'])\n",
    "\n",
    "df_nh.rename(columns={'Federal Provider Number':'provider_number',\n",
    "                      'Provider Zip Code':'zip_code',\n",
    "                      'Ownership Type':'ownership',\n",
    "                      'Overall Rating':'rating',\n",
    "                      'Total Amount of Fines in Dollars':'total_fine',\n",
    "                      'Reported RN Staffing Hours per Resident per Day':'rn_staff',\n",
    "                      'Reported Total Nurse Staffing Hours per Resident per Day':'total_staff',\n",
    "                      'Date First Approved to Provide Medicare and Medicaid services':'approved_date'},inplace=True)"
   ]
  },
  {
   "cell_type": "markdown",
   "metadata": {},
   "source": [
    "### 2.2 COVID-19 Nursing Home Data Set"
   ]
  },
  {
   "cell_type": "markdown",
   "metadata": {},
   "source": [
    "The Nursing Home COVID-19 Public File includes data reported by nursing homes to the CDC’s National Healthcare Safety Network (NHSN) system COVID-19 Long Term Care Facility Module, including Resident Impact, Facility Capacity, Staff & Personnel, and Supplies & Personal Protective Equipment, and Ventilator Capacity and Supplies Data Elements.\n",
    "\n",
    "Data Retreived: August 20, 2020\n",
    "\n",
    "Source: https://data.cms.gov/Special-Programs-Initiatives-COVID-19-Nursing-Home/COVID-19-Nursing-Home-Dataset/s2uc-8wxp"
   ]
  },
  {
   "cell_type": "code",
   "execution_count": 5,
   "metadata": {},
   "outputs": [],
   "source": [
    "df_nh_covid = pd.read_csv(\"01_Original Data/COVID-19_Nursing_Home_Dataset.csv\",usecols=['Week Ending',\n",
    "                                                                                        'Passed Quality Assurance Check',\n",
    "                                                                                        'Federal Provider Number',\n",
    "                                                                                        'Residents Total Confirmed COVID-19',\n",
    "                                                                                        'Residents Total COVID-19 Deaths',\n",
    "                                                                                        'Number of All Beds',\n",
    "                                                                                        'Total Number of Occupied Beds',\n",
    "                                                                                        'Staff Total Confirmed COVID-19',\n",
    "                                                                                        'Staff Total COVID-19 Deaths'])\n",
    "\n",
    "df_nh_covid.rename(columns={'Federal Provider Number':'provider_number',\n",
    "                            'Residents Total Confirmed COVID-19':'total_inf_res',\n",
    "                            'Residents Total COVID-19 Deaths':'total_inf_staff',\n",
    "                            'Staff Total Confirmed COVID-19':'total_deaths_res',\n",
    "                            'Staff Total COVID-19 Deaths':'total_deaths_staff',\n",
    "                            'Number of All Beds':'total_beds',\n",
    "                            'Total Number of Occupied Beds':'occupied_beds'},inplace=True)"
   ]
  },
  {
   "cell_type": "markdown",
   "metadata": {},
   "source": [
    "### 2.3 Deficiencies Displayed on Nursing Home Compare"
   ]
  },
  {
   "cell_type": "markdown",
   "metadata": {},
   "source": [
    "A list of all health deficiencies currently listed on Nursing Home Compare including the most recent comprehensive inspection and the most recent 36 months of complaint inspections.\n",
    "\n",
    "Data Retreived: August 20, 2020\n",
    "\n",
    "Source: https://data.medicare.gov/Nursing-Home-Compare/Deficiencies-Displayed-on-Nursing-Home-Compare-Cyc/np3k-uatv\n",
    "\n",
    "Source: https://data.medicare.gov/Nursing-Home-Compare/Deficiencies-Displayed-on-Nursing-Home-Compare-Cyc/3j8m-gmpk\n",
    "\n",
    "Source: https://data.medicare.gov/Nursing-Home-Compare/Deficiencies-Displayed-on-Nursing-Home-Compare-Cyc/7gue-kitf"
   ]
  },
  {
   "cell_type": "code",
   "execution_count": 6,
   "metadata": {},
   "outputs": [],
   "source": [
    "df_def1 = pd.read_csv(\"01_Original Data/Deficiencies_Cycle_1.csv\",usecols=['Federal Provider Number', \n",
    "                                                                           'Scope Severity Code',\n",
    "                                                                           'Deficiency Description'])\n",
    "\n",
    "df_def2 = pd.read_csv(\"01_Original Data/Deficiencies_Cycle_2.csv\",usecols=['Federal Provider Number', \n",
    "                                                                           'Scope Severity Code',\n",
    "                                                                           'Deficiency Description'])\n",
    "\n",
    "df_def3 = pd.read_csv(\"01_Original Data/Deficiencies_Cycle_3.csv\",usecols=['Federal Provider Number', \n",
    "                                                                           'Scope Severity Code',\n",
    "                                                                           'Deficiency Description'])\n",
    "\n",
    "df_def1.rename(columns={'Federal Provider Number':'provider_number'},inplace=True)\n",
    "df_def2.rename(columns={'Federal Provider Number':'provider_number'},inplace=True)\n",
    "df_def3.rename(columns={'Federal Provider Number':'provider_number'},inplace=True)"
   ]
  },
  {
   "cell_type": "markdown",
   "metadata": {},
   "source": [
    "### 2.4 LTCFocus.org Data Set"
   ]
  },
  {
   "cell_type": "markdown",
   "metadata": {},
   "source": [
    "LTCFocus.org is a product of the Shaping Long-Term Care in America Project being conducted at the Brown University Center for Gerontology and Healthcare Research and supported, in part, by the National Institute on Aging. The website hosts data regarding the health and functional status of nursing home residents, characteristics of care facilities, state policies relevant to long term care services and financing, and data characterizing the markets in which facilities exist and, in the future, we plan to expand to include information about other sectors of the long-term care system.\n",
    "\n",
    "Data Retreived: August 20, 2020\n",
    "\n",
    "Source: http://ltcfocus.org/download/13f2aa4c-7145-7b6c-f2ad-dc8e59bf86d9"
   ]
  },
  {
   "cell_type": "code",
   "execution_count": 7,
   "metadata": {},
   "outputs": [],
   "source": [
    "df_res = pd.read_csv(\"01_Original Data/facility_2017.csv\",delimiter=';',usecols=['PROV1680',\n",
    "                                                                                 'state',\n",
    "                                                                                 'county',\n",
    "                                                                                 'paymcaid',\n",
    "                                                                                 'multifac',\n",
    "                                                                                 'pctwhite_2011p'])\n",
    "\n",
    "df_res.rename(columns={'PROV1680':'provider_number'},inplace=True)"
   ]
  },
  {
   "cell_type": "markdown",
   "metadata": {},
   "source": [
    "### 2.5 USAFacts.org County-level Tracker"
   ]
  },
  {
   "cell_type": "markdown",
   "metadata": {},
   "source": [
    "The county-level tracker makes it easy to follow COVID-19 cases on a granular level, as does the ability to break down infections per 100,000 people.\n",
    "\n",
    "Data Last Updated: August 20, 2020\n",
    "\n",
    "Source: https://usafacts.org/visualizations/coronavirus-covid-19-spread-map/Source: "
   ]
  },
  {
   "cell_type": "code",
   "execution_count": 8,
   "metadata": {},
   "outputs": [],
   "source": [
    "df_county_cases = pd.read_csv(\"01_Original Data/covid_confirmed_usafacts.csv\")\n",
    "\n",
    "df_county_deaths = pd.read_csv(\"01_Original Data/covid_deaths_usafacts.csv\")\n",
    "\n",
    "df_county_population = pd.read_csv(\"01_Original Data/covid_county_population_usafacts.csv\",usecols=['countyFIPS',\n",
    "                                                                                                    'population'])"
   ]
  },
  {
   "cell_type": "markdown",
   "metadata": {},
   "source": [
    "### 2.6 Two-Digit State Code Listing (manually created) "
   ]
  },
  {
   "cell_type": "markdown",
   "metadata": {},
   "source": [
    "Geographic Reference Files are documents that list codes for geographic entities.\n",
    "\n",
    "Data Retreived: August 20, 2020\n",
    "\n",
    "Based on: https://www.census.gov/data/datasets/1997/econ/gus/gidstate.html"
   ]
  },
  {
   "cell_type": "code",
   "execution_count": 9,
   "metadata": {},
   "outputs": [],
   "source": [
    "df_county_key1 = pd.read_excel(\"01_Original Data/state_code.xlsx\")"
   ]
  },
  {
   "cell_type": "markdown",
   "metadata": {},
   "source": [
    "### 2.7 US Zipcodes to County State (manually created)"
   ]
  },
  {
   "cell_type": "markdown",
   "metadata": {},
   "source": [
    "Databases of U.S. zip codes and their associated county code.\n",
    "\n",
    "Data Retreived: August 20, 2020\n",
    "\n",
    "Based on: https://www2.census.gov/geo/docs/reference/codes/files/national_county.txt"
   ]
  },
  {
   "cell_type": "code",
   "execution_count": 10,
   "metadata": {},
   "outputs": [],
   "source": [
    "zip_to_county = pd.read_excel(\"01_Original Data/zip_to_county.xlsx\")"
   ]
  },
  {
   "cell_type": "markdown",
   "metadata": {},
   "source": [
    "### 2.8 SSA and FIPS County Codes"
   ]
  },
  {
   "cell_type": "markdown",
   "metadata": {},
   "source": [
    "CMS periodically produces SSA to FIPS state and county crosswalk files. Some CMS data files have SSA state and county codes or county name rather than FIPS state and county codes. The data files below are processed to be easier for SAS and Stata use.\n",
    "\n",
    "Data Retreived: August 20, 2020\n",
    "\n",
    "Source: http://data.nber.org/data/ssa-fips-state-county-crosswalk.html"
   ]
  },
  {
   "cell_type": "code",
   "execution_count": 11,
   "metadata": {},
   "outputs": [],
   "source": [
    "df_county_key2 = pd.read_excel(\"01_Original Data/FY 2017 FR Cty CBSA Xwalk and CBSA Con Cty.xlsx\",\n",
    "                               usecols=['FIPS State county code',\n",
    "                                        'CBSA (Blanks are Rural)'])\n",
    "\n",
    "df_county_key2.rename(columns={'FIPS State county code':'fips',\n",
    "                               'CBSA (Blanks are Rural)':'cbsa_code'},inplace=True)"
   ]
  },
  {
   "cell_type": "markdown",
   "metadata": {},
   "source": [
    "## 3 Data Pre-Processing"
   ]
  },
  {
   "cell_type": "markdown",
   "metadata": {},
   "source": [
    "### 3.1 COVID-19 Nursing Home Dataset"
   ]
  },
  {
   "cell_type": "code",
   "execution_count": 12,
   "metadata": {},
   "outputs": [
    {
     "data": {
      "application/vnd.jupyter.widget-view+json": {
       "model_id": "fb374fc1b7024be8be6a93a5bb2a7552",
       "version_major": 2,
       "version_minor": 0
      },
      "text/plain": [
       "Dropdown(options=(datetime.date(2020, 8, 2), datetime.date(2020, 7, 26), datetime.date(2020, 7, 19), datetime.…"
      ]
     },
     "metadata": {},
     "output_type": "display_data"
    }
   ],
   "source": [
    "# Converting the column Week Ending in a date format\n",
    "df_nh_covid['Week Ending'] = pd.to_datetime(df_nh_covid['Week Ending']).dt.date\n",
    "\n",
    "# Selecting the most recent date\n",
    "max_date_filter = df_nh_covid['Week Ending'].max()\n",
    "\n",
    "# Filtering LTC facilities out that did not pass the quality assuance check\n",
    "df_nh_covid = df_nh_covid[df_nh_covid['Passed Quality Assurance Check']=='Y']\n",
    "\n",
    "# Assigning the most recent date as a default for the dropdown function\n",
    "new_date = max_date_filter\n",
    "\n",
    "# Creating a dropdown function which allows to select a range of available dates\n",
    "dropdown_date = widgets.Dropdown(options=sorted(df_nh_covid['Week Ending'].unique(),reverse=True))\n",
    "\n",
    "input_date_filter = widgets.Output()\n",
    "\n",
    "def dropdown_date_eventhandler(change):\n",
    "    input_date_filter.clear_output()\n",
    "    with input_date_filter:\n",
    "        if (change.new==new_date):\n",
    "            display(max_date_filter)\n",
    "        else:\n",
    "            display(change.new)\n",
    "\n",
    "dropdown_date.observe(dropdown_date_eventhandler,names='value')\n",
    "\n",
    "display(dropdown_date)"
   ]
  },
  {
   "cell_type": "code",
   "execution_count": 13,
   "metadata": {},
   "outputs": [],
   "source": [
    "# Keeping only the data entries with the selected date (by default the most recent date)\n",
    "date_selected = dropdown_date.value\n",
    "df_nh_covid = df_nh_covid[df_nh_covid['Week Ending']==date_selected]\n",
    "\n",
    "# Dropping the columns 'Week Ending' and 'Passed Quality Assurance Check'\n",
    "df_nh_covid= df_nh_covid.drop(['Week Ending','Passed Quality Assurance Check'],axis=1)"
   ]
  },
  {
   "cell_type": "markdown",
   "metadata": {},
   "source": [
    "### 3.2 Deficiencies Displayed on Nursing Home Compare"
   ]
  },
  {
   "cell_type": "code",
   "execution_count": 14,
   "metadata": {},
   "outputs": [],
   "source": [
    "# Merging the three deficiencies tables into one new data frame\n",
    "df_def = df_def1.append(df_def2)\n",
    "df_def = df_def.append(df_def3)\n",
    "\n",
    "# Deleting the old data frames\n",
    "del df_def1,df_def2,df_def3"
   ]
  },
  {
   "cell_type": "code",
   "execution_count": 15,
   "metadata": {},
   "outputs": [],
   "source": [
    "# Categorising the severity codes into federal and serious federal deficiencies\n",
    "df_def.loc[df_def['Scope Severity Code'].isin(['B','C','D','E','F']),'fed_def'] = 1\n",
    "df_def.loc[df_def['Scope Severity Code'].isin(['G','H','I','J','K']),'serious_fed_def'] = 1\n",
    "\n",
    "# Creating a new deficiency type for implementing appropriate infection prevention measures based the deficiency description\n",
    "df_def.loc[df_def['Deficiency Description'].isin([\n",
    "    'Provide and implement an infection prevention and control program.']),'infection_def'] = 1\n",
    "\n",
    "df_def = df_def[df_def['Scope Severity Code'].isin(['B','C','D','E','F','G','H','I','J','K'])]\n",
    "\n",
    "# Grouping the number of deficiencies bye nursing homes \n",
    "df_def = df_def.groupby(['provider_number'])[['fed_def','serious_fed_def','infection_def']].sum().reset_index()\n"
   ]
  },
  {
   "cell_type": "markdown",
   "metadata": {},
   "source": [
    "### 3.3 LTCFocus.org Data Set"
   ]
  },
  {
   "cell_type": "code",
   "execution_count": 16,
   "metadata": {},
   "outputs": [],
   "source": [
    "# Attaching the state_code to the LTCFocus.org Data Set\n",
    "df_res = pd.merge(df_res,df_county_key1,how='inner',on='state')\n",
    "\n",
    "# Converting the county and state_code columns into three and two character long strings\n",
    "df_res['county'] = df_res['county'].apply(lambda x: '{0:0>3}'.format(x))\n",
    "df_res['state_code'] = df_res['state_code'].apply(lambda x: '{0:0>2}'.format(x))\n",
    "df_res['state_code'] = df_res['state_code'].astype(str)\n",
    "df_res['county'] = df_res['county'].astype(str)\n",
    "\n",
    "# Combining the two columns into a new column county_code\n",
    "df_res['county_code'] = df_res['state_code'] + df_res['county']\n",
    "\n",
    "# Dropping the old columns\n",
    "df_res = df_res.drop(['state','county','state_code'],axis=1)"
   ]
  },
  {
   "cell_type": "markdown",
   "metadata": {},
   "source": [
    "### 3.4 USAFacts.org County-level Tracker"
   ]
  },
  {
   "cell_type": "code",
   "execution_count": 17,
   "metadata": {},
   "outputs": [],
   "source": [
    "# Converting date format from dropdown function into the same format as the columns in the county cases and deaths data sets\n",
    "timestampStr = date_selected.strftime('X%m/X%d/%y').replace('X0','X').replace('X','')\n",
    "\n",
    "# Keeping only the county cases and deaths from the date selected in the dropdown\n",
    "df_county_cases.drop(df_county_cases.columns.difference(['countyFIPS',\n",
    "                                                         timestampStr]),1,inplace=True)\n",
    "df_county_deaths.drop(df_county_deaths.columns.difference(['countyFIPS',\n",
    "                                                           timestampStr]),1,inplace=True)\n",
    "\n",
    "# Dropping unallocated cases and deaths as they can not be assigned to a specific county\n",
    "df_county_cases = df_county_cases[df_county_cases['countyFIPS']!=0]\n",
    "df_county_population = df_county_population[df_county_population['countyFIPS']!=0]\n",
    "df_county_deaths = df_county_deaths[df_county_deaths['countyFIPS']!=0]\n",
    "\n",
    "# Merging the three County-level Tracker tables into one new data frame\n",
    "df_county_combined = pd.merge(df_county_population,df_county_cases,how='left',on=['countyFIPS'])\n",
    "df_county_combined = pd.merge(df_county_combined,df_county_deaths,how='left',on=['countyFIPS'])\n",
    "\n",
    "# Renaming the columns in the newly created data frame\n",
    "df_county_combined.columns = ['countyFIPS',\n",
    "                              'population',\n",
    "                              'confirmed',\n",
    "                              'deaths']"
   ]
  },
  {
   "cell_type": "markdown",
   "metadata": {},
   "source": [
    "## 4 Data Mapping"
   ]
  },
  {
   "cell_type": "code",
   "execution_count": 18,
   "metadata": {},
   "outputs": [],
   "source": [
    "# Taking the Provider Info data frame as basis for further processing \n",
    "df_merged = df_nh.copy()\n",
    "\n",
    "# Mapping the COVID-19 Nursing Home data set to the newly created data frame\n",
    "df_merged = pd.merge(df_merged,df_nh_covid[['provider_number',\n",
    "                                            'total_inf_res',\n",
    "                                            'total_inf_staff',\n",
    "                                            'total_beds',\n",
    "                                            'occupied_beds',\n",
    "                                            'total_deaths_res',\n",
    "                                            'total_deaths_staff']]\n",
    "                   ,how='left',on=['provider_number'])\n",
    "\n",
    "# Rounding the reported staffing hours per resident per days \n",
    "df_merged['rn_staff'] = (df_merged['rn_staff']).round(2)\n",
    "df_merged['total_staff'] = (df_merged['total_staff']).round(2)"
   ]
  },
  {
   "cell_type": "code",
   "execution_count": 19,
   "metadata": {},
   "outputs": [],
   "source": [
    "# Mapping the Deficiencies Displayed on Nursing Home Compare data set to the newly created data frame\n",
    "df_merged = pd.merge(df_merged,df_def,how='left',on=['provider_number'])"
   ]
  },
  {
   "cell_type": "code",
   "execution_count": 20,
   "metadata": {},
   "outputs": [],
   "source": [
    "# Mapping the LTCFocus.org data set to the newly created data frame\n",
    "df_merged = pd.merge(df_merged,df_res[['provider_number',\n",
    "                                       'paymcaid',\n",
    "                                       'multifac',\n",
    "                                       'pctwhite_2011p',\n",
    "                                       'county_code']]\n",
    "                   ,how='left',on=['provider_number'])"
   ]
  },
  {
   "cell_type": "code",
   "execution_count": 21,
   "metadata": {},
   "outputs": [],
   "source": [
    "# Converting the county_code column to numeric values\n",
    "df_merged['county_code'] = pd.to_numeric(df_merged['county_code'],errors='coerce')\n",
    "\n",
    "# Mapping the SSA and FIPS County Codes data set to the newly created data frame\n",
    "df_merged = pd.merge(df_merged,df_county_key2,how='left',left_on=['county_code'],right_on=['fips'])\n",
    "\n",
    "# Dropping the fips column\n",
    "df_merged = df_merged.drop(['fips'],axis=1)"
   ]
  },
  {
   "cell_type": "code",
   "execution_count": 22,
   "metadata": {},
   "outputs": [],
   "source": [
    "# Mapping the USAFacts.org County-level Tracker data set to the newly created data frame\n",
    "df_merged = pd.merge(df_merged,df_county_combined[['countyFIPS',\n",
    "                                                   'population',\n",
    "                                                   'confirmed',\n",
    "                                                   'deaths']]\n",
    "                   ,how='left',left_on=['county_code'],right_on=['countyFIPS'])\n",
    "\n",
    "# Dropping the countyFIPS column\n",
    "df_merged = df_merged.drop(['countyFIPS'],axis=1)"
   ]
  },
  {
   "cell_type": "markdown",
   "metadata": {},
   "source": [
    "## 5 Data Preparation"
   ]
  },
  {
   "cell_type": "markdown",
   "metadata": {},
   "source": [
    "### 5.1 Missing Value Treatment"
   ]
  },
  {
   "cell_type": "markdown",
   "metadata": {},
   "source": [
    "#### 5.1.1 Identify Missing Values"
   ]
  },
  {
   "cell_type": "code",
   "execution_count": 23,
   "metadata": {},
   "outputs": [
    {
     "data": {
      "text/plain": [
       "<matplotlib.axes._subplots.AxesSubplot at 0x2285ab16748>"
      ]
     },
     "execution_count": 23,
     "metadata": {},
     "output_type": "execute_result"
    },
    {
     "data": {
      "image/png": "[encoded data removed]",
      "text/plain": [
       "<Figure size 1728x720 with 3 Axes>"
      ]
     },
     "metadata": {
      "needs_background": "light"
     },
     "output_type": "display_data"
    }
   ],
   "source": [
    "# Illustrating the missing values in each column\n",
    "msno.bar(df_merged)"
   ]
  },
  {
   "cell_type": "code",
   "execution_count": 24,
   "metadata": {},
   "outputs": [
    {
     "data": {
      "text/plain": [
       "provider_number          0\n",
       "zip_code                 0\n",
       "ownership                0\n",
       "approved_date            0\n",
       "rating                 199\n",
       "rn_staff               492\n",
       "total_staff            492\n",
       "total_fine               0\n",
       "total_inf_res         1151\n",
       "total_inf_staff       1151\n",
       "total_beds            1250\n",
       "occupied_beds         1161\n",
       "total_deaths_res      1151\n",
       "total_deaths_staff    1151\n",
       "fed_def                161\n",
       "serious_fed_def        161\n",
       "infection_def          161\n",
       "paymcaid               959\n",
       "multifac               959\n",
       "pctwhite_2011p         959\n",
       "county_code            959\n",
       "cbsa_code             6997\n",
       "population            2087\n",
       "confirmed             2087\n",
       "deaths                2087\n",
       "dtype: int64"
      ]
     },
     "execution_count": 24,
     "metadata": {},
     "output_type": "execute_result"
    }
   ],
   "source": [
    "# Printing the number of missing entries for each column\n",
    "df_merged.isnull().sum()"
   ]
  },
  {
   "cell_type": "code",
   "execution_count": 25,
   "metadata": {},
   "outputs": [
    {
     "data": {
      "text/plain": [
       "provider_number        object\n",
       "zip_code                int64\n",
       "ownership              object\n",
       "approved_date          object\n",
       "rating                float64\n",
       "rn_staff              float64\n",
       "total_staff           float64\n",
       "total_fine              int64\n",
       "total_inf_res         float64\n",
       "total_inf_staff       float64\n",
       "total_beds            float64\n",
       "occupied_beds          object\n",
       "total_deaths_res      float64\n",
       "total_deaths_staff    float64\n",
       "fed_def               float64\n",
       "serious_fed_def       float64\n",
       "infection_def         float64\n",
       "paymcaid              float64\n",
       "multifac               object\n",
       "pctwhite_2011p         object\n",
       "county_code           float64\n",
       "cbsa_code             float64\n",
       "population            float64\n",
       "confirmed             float64\n",
       "deaths                float64\n",
       "dtype: object"
      ]
     },
     "execution_count": 25,
     "metadata": {},
     "output_type": "execute_result"
    }
   ],
   "source": [
    "# Printing the data types of each column\n",
    "df_merged.dtypes"
   ]
  },
  {
   "cell_type": "markdown",
   "metadata": {},
   "source": [
    "#### 5.1.2 Overall Rating (Provider Info)"
   ]
  },
  {
   "cell_type": "code",
   "execution_count": 26,
   "metadata": {},
   "outputs": [
    {
     "name": "stdout",
     "output_type": "stream",
     "text": [
      "199\n"
     ]
    }
   ],
   "source": [
    "# Creating a new data frame with only missing values in the respective column \n",
    "no_rating = df_merged.copy()\n",
    "no_rating = no_rating[(no_rating['rating'].isnull())]\n",
    "\n",
    "# Removing the above used entries from the main data frame\n",
    "df_merged = df_merged[~df_merged['provider_number'].isin(no_rating['provider_number'])]\n",
    "\n",
    "# Filling the missing values in the no_rating data frame with the median of the respective value from the main data frame\n",
    "rating_median = df_merged['rating'].median()\n",
    "no_rating['rating'] = no_rating['rating'].fillna(rating_median)\n",
    "\n",
    "# Adding the filled data frame to the main data frame\n",
    "df_merged = df_merged.append(no_rating)\n",
    "\n",
    "# Rounding the column rating to convert it from a float to an integer\n",
    "df_merged['rating'] = df_merged['rating'].round()\n",
    "\n",
    "# Printing the number of entries the applied method filled\n",
    "print(no_rating.rating.notnull().sum())"
   ]
  },
  {
   "cell_type": "markdown",
   "metadata": {},
   "source": [
    "#### 5.1.3 Reported RN Staffing Hours per Resident per Day (Provider Info)"
   ]
  },
  {
   "cell_type": "code",
   "execution_count": 27,
   "metadata": {},
   "outputs": [
    {
     "name": "stdout",
     "output_type": "stream",
     "text": [
      "492\n"
     ]
    }
   ],
   "source": [
    "# Creating a new data frame with only missing values in the respective column \n",
    "no_rn_staff = df_merged.copy()\n",
    "no_rn_staff = no_rn_staff[(no_rn_staff['rn_staff'].isnull())]\n",
    "\n",
    "# Removing the above used entries from the main data frame\n",
    "df_merged = df_merged[~df_merged['provider_number'].isin(no_rn_staff['provider_number'])]\n",
    "\n",
    "# Filling the missing values in the rn_staff data frame with the median of the respective value from the main data frame\n",
    "rn_staff_median = df_merged['rn_staff'].median()\n",
    "no_rn_staff['rn_staff'] = no_rn_staff['rn_staff'].fillna(rn_staff_median)\n",
    "\n",
    "# Adding the filled data frame to the main data frame\n",
    "df_merged = df_merged.append(no_rn_staff)\n",
    "\n",
    "# Printing the number of entries the applied method filled\n",
    "print(no_rn_staff.rn_staff.notnull().sum())"
   ]
  },
  {
   "cell_type": "markdown",
   "metadata": {},
   "source": [
    "#### 5.1.4 Reported Total Nurse Staffing Hours per Resident per Day (Provider Info)"
   ]
  },
  {
   "cell_type": "code",
   "execution_count": 28,
   "metadata": {},
   "outputs": [
    {
     "name": "stdout",
     "output_type": "stream",
     "text": [
      "492\n"
     ]
    }
   ],
   "source": [
    "# Creating a new data frame with only missing values in the respective column \n",
    "no_total_staff = df_merged.copy()\n",
    "no_total_staff = no_total_staff[(no_total_staff['total_staff'].isnull())]\n",
    "\n",
    "# Removing the above used entries from the main data frame\n",
    "df_merged = df_merged[~df_merged['provider_number'].isin(no_total_staff['provider_number'])]\n",
    "\n",
    "# Filling the missing values in the total_staff data frame with the median of the respective value from the main data frame\n",
    "total_staff_median = df_merged['total_staff'].median()\n",
    "no_total_staff['total_staff'] = no_total_staff['total_staff'].fillna(total_staff_median)\n",
    "\n",
    "# Adding the filled data frame to the main data frame\n",
    "df_merged = df_merged.append(no_total_staff)\n",
    "\n",
    "# Printing the number of entries the applied method filled\n",
    "print(no_total_staff.total_staff.notnull().sum())"
   ]
  },
  {
   "cell_type": "markdown",
   "metadata": {},
   "source": [
    "#### 5.1.5 Number of All Beds (COVID-19 Nursing Home Dataset)"
   ]
  },
  {
   "cell_type": "code",
   "execution_count": 29,
   "metadata": {},
   "outputs": [
    {
     "name": "stdout",
     "output_type": "stream",
     "text": [
      "1250\n"
     ]
    }
   ],
   "source": [
    "# Creating a new data frame with only missing values in the respective column \n",
    "no_total_beds = df_merged.copy()\n",
    "no_total_beds = no_total_beds[(no_total_beds['total_beds'].isnull())]\n",
    "\n",
    "# Removing the above used entries from the main data frame\n",
    "df_merged = df_merged[~df_merged['provider_number'].isin(no_total_beds['provider_number'])]\n",
    "\n",
    "# Filling the missing values in the total_beds data frame with the median of the respective value from the main data frame\n",
    "total_beds_median = df_merged['total_beds'].median()\n",
    "no_total_beds['total_beds'] = no_total_beds['total_beds'].fillna(total_beds_median)\n",
    "\n",
    "# Adding the filled data frame to the main data frame\n",
    "df_merged = df_merged.append(no_total_beds)\n",
    "\n",
    "# Printing the number of entries the applied method filled\n",
    "print(no_total_beds.total_beds.notnull().sum())"
   ]
  },
  {
   "cell_type": "markdown",
   "metadata": {},
   "source": [
    "#### 5.1.6 Total Number of Occupied Beds (COVID-19 Nursing Home Dataset)"
   ]
  },
  {
   "cell_type": "code",
   "execution_count": 30,
   "metadata": {},
   "outputs": [
    {
     "name": "stdout",
     "output_type": "stream",
     "text": [
      "1162\n"
     ]
    }
   ],
   "source": [
    "# Converting the column occupied_beds from an object to numeric values\n",
    "df_merged['occupied_beds'] = pd.to_numeric(df_merged['occupied_beds'],errors='coerce')\n",
    "\n",
    "# Creating a new data frame with only missing values in the respective column \n",
    "no_occupied_beds = df_merged.copy()\n",
    "no_occupied_beds = no_occupied_beds[(no_occupied_beds['occupied_beds'].isnull())]\n",
    "\n",
    "# Removing the above used entries from the main data frame\n",
    "df_merged = df_merged[~df_merged['provider_number'].isin(no_occupied_beds['provider_number'])]\n",
    "\n",
    "# Filling the missing values in the occupied_beds data frame with the median of the respective value from the main data frame\n",
    "occupied_beds_median = df_merged['occupied_beds'].median()\n",
    "no_occupied_beds['occupied_beds'] = no_occupied_beds['occupied_beds'].fillna(occupied_beds_median)\n",
    "\n",
    "# Adding the filled data frame to the main data frame\n",
    "df_merged = df_merged.append(no_occupied_beds)\n",
    "\n",
    "# Printing the number of entries the applied method filled\n",
    "print(no_occupied_beds.occupied_beds.notnull().sum())"
   ]
  },
  {
   "cell_type": "markdown",
   "metadata": {},
   "source": [
    "#### 5.1.7 Deficiencies Displayed on Nursing Home Compare"
   ]
  },
  {
   "cell_type": "code",
   "execution_count": 31,
   "metadata": {},
   "outputs": [],
   "source": [
    "# Replacing missing values in the deficiency columns with 0s \n",
    "df_merged[['fed_def','serious_fed_def','infection_def']] = df_merged[['fed_def','serious_fed_def','infection_def']].fillna(value=0)"
   ]
  },
  {
   "cell_type": "markdown",
   "metadata": {},
   "source": [
    "#### 5.1.8 paymcaid (LTCFocus.org Data Set)"
   ]
  },
  {
   "cell_type": "code",
   "execution_count": 32,
   "metadata": {},
   "outputs": [
    {
     "name": "stdout",
     "output_type": "stream",
     "text": [
      "959\n"
     ]
    }
   ],
   "source": [
    "# Creating a new data frame with only missing values in the respective column \n",
    "no_paymcaid = df_merged.copy()\n",
    "no_paymcaid = no_paymcaid[(no_paymcaid['paymcaid'].isnull())]\n",
    "\n",
    "# Removing the above used entries from the main data frame\n",
    "df_merged = df_merged[~df_merged['provider_number'].isin(no_paymcaid['provider_number'])]\n",
    "\n",
    "# Filling the missing values in the paymcaid data frame with the median of the respective value from the main data frame\n",
    "paymcaid_median = df_merged['paymcaid'].median()\n",
    "no_paymcaid['paymcaid'] = no_paymcaid['paymcaid'].fillna(paymcaid_median)\n",
    "\n",
    "# Adding the filled data frame to the main data frame\n",
    "df_merged = df_merged.append(no_paymcaid)\n",
    "\n",
    "# Printing the number of entries the applied method filled\n",
    "print(no_paymcaid.paymcaid.notnull().sum())"
   ]
  },
  {
   "cell_type": "markdown",
   "metadata": {},
   "source": [
    "#### 5.1.9 multifac (LTCFocus.org Data Set)"
   ]
  },
  {
   "cell_type": "code",
   "execution_count": 33,
   "metadata": {},
   "outputs": [
    {
     "name": "stdout",
     "output_type": "stream",
     "text": [
      "959\n"
     ]
    }
   ],
   "source": [
    "# Creating a new data frame with only missing values in the respective column \n",
    "no_multifac = df_merged.copy()\n",
    "no_multifac = no_multifac[(no_multifac['multifac'].isnull())]\n",
    "\n",
    "# Removing the above used entries from the main data frame\n",
    "df_merged = df_merged[~df_merged['provider_number'].isin(no_multifac['provider_number'])]\n",
    "\n",
    "# Converting the multifac column into binary values\n",
    "df_merged['multifac'] = np.where(df_merged['multifac']=='Yes',1,0)\n",
    "\n",
    "# Filling the missing values in the multifac data frame with the median of the respective value from the main data frame\n",
    "multifac_median = df_merged['multifac'].median()\n",
    "no_multifac['multifac'] = no_multifac['multifac'].fillna(multifac_median)\n",
    "\n",
    "# Adding the filled data frame to the main data frame\n",
    "df_merged = df_merged.append(no_multifac)\n",
    "\n",
    "# Printing the number of entries the applied method filled\n",
    "print(no_multifac.multifac.notnull().sum())"
   ]
  },
  {
   "cell_type": "markdown",
   "metadata": {},
   "source": [
    "#### 5.1.10 pctwhite_2011p (LTCFocus.org Data Set)"
   ]
  },
  {
   "cell_type": "code",
   "execution_count": 34,
   "metadata": {},
   "outputs": [
    {
     "name": "stdout",
     "output_type": "stream",
     "text": [
      "1458\n"
     ]
    }
   ],
   "source": [
    "# Converting the column pctwhite_2011p from an object to numeric values\n",
    "df_merged['pctwhite_2011p'] = pd.to_numeric(df_merged['pctwhite_2011p'],errors='coerce')\n",
    "\n",
    "# Creating a new data frame with only missing values in the respective column \n",
    "no_pctwhite_2011p = df_merged.copy()\n",
    "no_pctwhite_2011p = no_pctwhite_2011p[(no_pctwhite_2011p['pctwhite_2011p'].isnull())]\n",
    "\n",
    "# Removing the above used entries from the main data frame\n",
    "df_merged = df_merged[~df_merged['provider_number'].isin(no_pctwhite_2011p['provider_number'])]\n",
    "\n",
    "# Filling the missing values in the pctwhite_2011p data frame with the median of the respective value from the main data frame\n",
    "pctwhite_2011p_median = df_merged['pctwhite_2011p'].median()\n",
    "no_pctwhite_2011p['pctwhite_2011p'] = no_pctwhite_2011p['pctwhite_2011p'].fillna(pctwhite_2011p_median)\n",
    "\n",
    "# Adding the filled data frame to the main data frame\n",
    "df_merged = df_merged.append(no_pctwhite_2011p)\n",
    "\n",
    "# Printing the number of entries the applied method filled\n",
    "print(no_pctwhite_2011p.pctwhite_2011p.notnull().sum())"
   ]
  },
  {
   "cell_type": "markdown",
   "metadata": {},
   "source": [
    "#### 5.1.11 USAFacts.org County-level Tracker"
   ]
  },
  {
   "cell_type": "code",
   "execution_count": 35,
   "metadata": {},
   "outputs": [],
   "source": [
    "# Creating a new data frame with only missing values in the respective column but not missing values in the column county_code\n",
    "no_county = df_merged.copy()\n",
    "no_county = no_county[(~no_county['county_code'].isnull())&(no_county['population'].isnull())]\n",
    "\n",
    "# Dropping the columns with missing values\n",
    "no_county = no_county.drop(['county_code','population','confirmed','deaths'],axis=1)\n",
    "\n",
    "# Removing the above used entries from the main data frame\n",
    "df_merged = df_merged[~df_merged['provider_number'].isin(no_county['provider_number'])]\n",
    "\n",
    "# Dropping zip code that occur more than once and are therefore not assignable to a single county\n",
    "zip_to_county.drop_duplicates(subset='zip_code',inplace=True,keep=False)\n",
    "\n",
    "#zip_to_county.rename(columns={'zip_county_code':'county_code'},inplace=True)\n",
    "\n",
    "# Mapping the US Zipcodes to County State data set to the no_county data frame\n",
    "no_county = pd.merge(no_county,zip_to_county,how='left',on=['zip_code'])\n",
    "no_county = no_county.drop(['zip_code'],axis=1)\n",
    "\n",
    "# Rounding the column county_code to convert it from a float to an integer\n",
    "no_county['county_code'] = no_county['county_code'].round()\n",
    "\n",
    "# Mapping the USAFacts.org County-level Tracker data set to the no_county data frame\n",
    "no_county = pd.merge(no_county,df_county_combined[['countyFIPS',\n",
    "                                                   'population',\n",
    "                                                   'confirmed',\n",
    "                                                   'deaths']]\n",
    "                   ,how='left',left_on=['county_code'],right_on=['countyFIPS'])\n",
    "\n",
    "# Dropping the countyFIPS column\n",
    "no_county = no_county.drop(['countyFIPS'],axis=1)\n",
    "\n",
    "# Adding the filled data frame to the main data frame\n",
    "df_merged = df_merged.append(no_county)\n",
    "\n",
    "# Dropping the zip_code column\n",
    "df_merged = df_merged.drop(['zip_code'],axis=1)"
   ]
  },
  {
   "cell_type": "markdown",
   "metadata": {},
   "source": [
    "#### 5.1.12 CBSA (Blanks are Rural) (SSA and FIPS County Codes)"
   ]
  },
  {
   "cell_type": "code",
   "execution_count": 36,
   "metadata": {},
   "outputs": [],
   "source": [
    "# Converting the urban column into binary values\n",
    "df_merged['urban'] = np.where(~np.isnan(df_merged['cbsa_code']),1,0)\n",
    "\n",
    "# Dropping the cbsa_code column\n",
    "df_merged = df_merged.drop(['cbsa_code'],axis=1)"
   ]
  },
  {
   "cell_type": "markdown",
   "metadata": {},
   "source": [
    "#### 5.1.12 Drop remaining LTC Facilities with Missing Values"
   ]
  },
  {
   "cell_type": "code",
   "execution_count": 37,
   "metadata": {},
   "outputs": [],
   "source": [
    "#df_merged = df_merged.drop_duplicates()\n",
    "df_merged = df_merged.dropna()"
   ]
  },
  {
   "cell_type": "code",
   "execution_count": 38,
   "metadata": {},
   "outputs": [
    {
     "data": {
      "text/plain": [
       "(13078, 24)"
      ]
     },
     "execution_count": 38,
     "metadata": {},
     "output_type": "execute_result"
    }
   ],
   "source": [
    "# Printing the number of rows and columns in the data frame\n",
    "df_merged.shape"
   ]
  },
  {
   "cell_type": "markdown",
   "metadata": {},
   "source": [
    "### 5.2 Feature Engineering"
   ]
  },
  {
   "cell_type": "markdown",
   "metadata": {},
   "source": [
    "#### 5.2.1 Ownership Type"
   ]
  },
  {
   "cell_type": "code",
   "execution_count": 39,
   "metadata": {},
   "outputs": [],
   "source": [
    "# Converting the for_profit column into binary values\n",
    "df_merged['for_profit'] = np.where(df_merged['ownership'].str[:10]=='For profit',1,0)\n",
    "\n",
    "# Dropping the cbsa_code column\n",
    "df_merged= df_merged.drop(['ownership'],axis=1)"
   ]
  },
  {
   "cell_type": "markdown",
   "metadata": {},
   "source": [
    "#### 5.2.2 Facility Age"
   ]
  },
  {
   "cell_type": "code",
   "execution_count": 40,
   "metadata": {},
   "outputs": [],
   "source": [
    "# Calculating the years each nursing home is operating for\n",
    "df_merged['approved_date'] = pd.to_datetime(df_merged['approved_date']).dt.date\n",
    "df_merged['years'] = ((date_selected - df_merged['approved_date'])/np.timedelta64(1,'Y')).round(2)\n",
    "\n",
    "# Dropping the approved_date column\n",
    "df_merged = df_merged.drop(['approved_date'],axis=1)"
   ]
  },
  {
   "cell_type": "markdown",
   "metadata": {},
   "source": [
    "#### 5.2.3 Bed Occupancy Rates"
   ]
  },
  {
   "cell_type": "code",
   "execution_count": 41,
   "metadata": {},
   "outputs": [],
   "source": [
    "# Calculating the occupancy of beds in each nursing home\n",
    "df_merged['occupancy'] = (df_merged['occupied_beds']/df_merged['total_beds']*100).round(2)"
   ]
  },
  {
   "cell_type": "markdown",
   "metadata": {},
   "source": [
    "#### 5.2.4 Excess Beds per County"
   ]
  },
  {
   "cell_type": "code",
   "execution_count": 42,
   "metadata": {},
   "outputs": [],
   "source": [
    "# Creating a new data frame with the columns county_code, total_beds_ and occupied_beds in order to group by the county_code\n",
    "county_excess = df_merged[['county_code','total_beds','occupied_beds']]\n",
    "county_excess = county_excess.groupby(['county_code']).sum().reset_index()\n",
    "\n",
    "# Calculating a new column by subtracting the total number of beds by the total occupied beds in a county \n",
    "county_excess['county_excess'] = county_excess['total_beds'] - county_excess['occupied_beds']\n",
    "\n",
    "# Removing nursing homes that are in a county with a negative excess of beds in a county\n",
    "# (possibly caused by an error in the reporting of numbers)\n",
    "county_excess = county_excess[county_excess['county_excess'] >= 0]\n",
    "\n",
    "# Mapping the county_excess to the main data frame\n",
    "df_merged = pd.merge(df_merged,county_excess[['county_code','county_excess']],how='left',on=['county_code'])\n",
    "\n",
    "# Dropping the occupied_beds column\n",
    "df_merged = df_merged.drop(['occupied_beds'],axis=1)"
   ]
  },
  {
   "cell_type": "markdown",
   "metadata": {},
   "source": [
    "#### 5.2.5 Competition Metrics (Herfindahl Index)"
   ]
  },
  {
   "cell_type": "code",
   "execution_count": 43,
   "metadata": {},
   "outputs": [],
   "source": [
    "# Creating a new data frame by grouping the column total_beds based on the county_code\n",
    "market_share = df_merged.groupby(['county_code'])[['total_beds']].sum().reset_index()\n",
    "\n",
    "# Renaming the sum of total_beds to sum_total_beds to avoid name collisions\n",
    "market_share.rename(columns={'total_beds':'sum_total_beds'},inplace=True)\n",
    "\n",
    "# Mapping the sum_total_beds to the main data frame\n",
    "df_merged = pd.merge(df_merged,market_share[['county_code','sum_total_beds']],how='left',on=['county_code'])\n",
    "\n",
    "# Calculating the share of the beds for each county\n",
    "df_merged['beds_market'] = ((df_merged['total_beds']/df_merged['sum_total_beds'])**2)\n",
    "market_share = df_merged.groupby(['county_code'])[['beds_market']].sum().reset_index()\n",
    "\n",
    "# Renaming the sum of beds_market to sum_beds_market to avoid name collisions\n",
    "market_share.rename(columns={'beds_market':'sum_beds_market'},inplace=True)\n",
    "\n",
    "# Mapping the sum_beds_market to the main data frame\n",
    "df_merged = pd.merge(df_merged,market_share[['county_code','sum_beds_market']],how='left',on=['county_code'])\n",
    "\n",
    "# Dropping the county_code column\n",
    "df_merged = df_merged.drop(['county_code'],axis=1)\n",
    "\n",
    "# Calculating the herfindahl index\n",
    "df_merged['herfindahl'] = np.where(np.isnan(df_merged['beds_market']), np.nan,df_merged['sum_beds_market'])\n",
    "df_merged['herfindahl'] = (df_merged['herfindahl']*100).round(2)\n",
    "\n",
    "# Dropping the columns sum_beds_market, sum_total_beds and beds_market\n",
    "df_merged = df_merged.drop(['sum_beds_market','sum_total_beds','beds_market'],axis=1)"
   ]
  },
  {
   "cell_type": "markdown",
   "metadata": {},
   "source": [
    "#### 5.2.6 Percentage of Racial and Ethnic Minority Residents  "
   ]
  },
  {
   "cell_type": "code",
   "execution_count": 44,
   "metadata": {},
   "outputs": [],
   "source": [
    "# Converting the pctwhite_2011p column to numeric values\n",
    "df_merged['pctwhite_2011p'] = pd.to_numeric(df_merged['pctwhite_2011p'],errors='coerce')\n",
    "\n",
    "# Calculating share of racial and ethnic minority residents\n",
    "df_merged['minority'] = 100-df_merged['pctwhite_2011p'].round(2)\n",
    "\n",
    "# Dropping the pctwhite_2011p column\n",
    "df_merged = df_merged.drop(['pctwhite_2011p'],axis=1)"
   ]
  },
  {
   "cell_type": "markdown",
   "metadata": {},
   "source": [
    "#### 5.2.7 County Cases and Deaths per 100K Population"
   ]
  },
  {
   "cell_type": "code",
   "execution_count": 45,
   "metadata": {},
   "outputs": [],
   "source": [
    "# Calculating the county cases and deaths on a 100K population basis for a more appropriate comparison between counties\n",
    "df_merged['county_cases_100'] = (df_merged['confirmed']/df_merged['population']*100000).round(0)\n",
    "df_merged['county_deaths_100'] = (df_merged['deaths']/df_merged['population']*100000).round(0)\n",
    "\n",
    "# Dropping the columns confirmed, deaths and population\n",
    "df_merged = df_merged.drop(['confirmed','deaths','population'],axis=1)"
   ]
  },
  {
   "cell_type": "markdown",
   "metadata": {},
   "source": [
    "#### <font color='grey'>5.2.8 Mortality Ratios (Not used)</font>"
   ]
  },
  {
   "cell_type": "markdown",
   "metadata": {},
   "source": [
    "Mortality ratios in nursing homes were dropped as features for this project due to the difficulty of their interpretation. A large share of nursing homes have mortality rates of over 100% due to the lack of adequate testing capabilities. On the one hand, the removal of nursing homes with mortality ratios above 100% is out of proportion to the added value of the features, and on the other hand does not solve the problem of difficult interpretability even with mortality rates below 100%."
   ]
  },
  {
   "cell_type": "raw",
   "metadata": {},
   "source": [
    "# Calculating the mortality ratios for residents, staff and on a county level\n",
    "df_merged['res_rate'] = np.where(df_merged['total_inf_res']>0,(df_merged['total_deaths_res']/df_merged['total_inf_res']*100).round(2),0)\n",
    "df_merged['staff_rate'] = np.where(df_merged['total_inf_staff']>0,(df_merged['total_deaths_staff']/df_merged['total_inf_staff']*100).round(2),0)\n",
    "df_merged['county_rate_100'] = (df_merged['county_deaths_100']/df_merged['county_cases_100']*100).round(2)"
   ]
  },
  {
   "cell_type": "raw",
   "metadata": {},
   "source": [
    "# Capping ratios larger than 100% as they mean that more people are dying through the effects of COVID-19 than being infected\n",
    "# (driven by the limited testing capabilities in LTC facilities)\n",
    "a = np.array(df_merged['res_rate'].values.tolist())\n",
    "b = np.array(df_merged['staff_rate'].values.tolist())\n",
    "df_merged['res_rate'] = np.where(a > 100, 101, a).tolist()\n",
    "df_merged['staff_rate'] = np.where(b > 100, 101, a).tolist()"
   ]
  },
  {
   "cell_type": "markdown",
   "metadata": {},
   "source": [
    "#### 5.2.9 Drop remaining LTC Facilities with Missing Values"
   ]
  },
  {
   "cell_type": "code",
   "execution_count": 46,
   "metadata": {},
   "outputs": [],
   "source": [
    "#df_merged = df_merged.drop_duplicates()\n",
    "df_merged = df_merged.dropna()"
   ]
  },
  {
   "cell_type": "code",
   "execution_count": 47,
   "metadata": {},
   "outputs": [
    {
     "data": {
      "text/plain": [
       "(13070, 24)"
      ]
     },
     "execution_count": 47,
     "metadata": {},
     "output_type": "execute_result"
    }
   ],
   "source": [
    "# Printing the number of rows and columns in the data frame\n",
    "df_merged.shape"
   ]
  },
  {
   "cell_type": "markdown",
   "metadata": {},
   "source": [
    "### 5.3 Create Target Features (Dependant Variables)"
   ]
  },
  {
   "cell_type": "code",
   "execution_count": 48,
   "metadata": {},
   "outputs": [],
   "source": [
    "# Setting the 95% percentile as threshold in order to classify the 5% highest cases and deaths as outbreak \n",
    "# Threshold for deaths among staff is not calculated as it would be 0; differentiation only between deaths or no deaths\n",
    "inf_res_95_up = df_merged.loc[:,'total_inf_res'].quantile(0.95)\n",
    "inf_staff_95_up = df_merged.loc[:,'total_inf_staff'].quantile(0.95)\n",
    "deaths_res_95_up = df_merged.loc[:,'total_deaths_res'].quantile(0.95)\n",
    "\n",
    "# Calculating the max values in the aforementioned features as a boundary for the Pandas cut function\n",
    "inf_res_max = df_merged.loc[:,'total_inf_res'].max()\n",
    "inf_staff_max = df_merged.loc[:,'total_inf_staff'].max()\n",
    "deaths_res_max = df_merged.loc[:,'total_deaths_res'].max()\n",
    "\n",
    "# Setting the 75% percentile as threshold in order to classify the 25% highest mortality rates as outbreak\n",
    "# It is not the 95% percentile as the mortality rates above the 80% percentile already cross 100%\n",
    "#res_rate_75_up = df_merged.loc[:,'res_rate'].quantile(0.75)\n",
    "#staff_rate_75_up = df_merged.loc[:,'staff_rate'].quantile(0.75)"
   ]
  },
  {
   "cell_type": "raw",
   "metadata": {},
   "source": [
    "# Creating four different categorical target features infected and deaths among residents and staff (No Case, Confirmed Cases, Outbreak)\n",
    "df_merged['inf_res'] = pd.cut(df_merged['total_inf_res'],[-1,0,inf_res_95_up,inf_res_max],labels=[0,1,2])\n",
    "df_merged['inf_staff'] = pd.cut(df_merged['total_inf_staff'],[-1,0,inf_staff_95_up,inf_staff_max],labels=[0,1,2])\n",
    "df_merged['deaths_res'] = pd.cut(df_merged['total_deaths_res'],[-1,0,deaths_res_95_up,deaths_res_max],labels=[0,1,2])\n",
    "df_merged['deaths_staff'] = np.where(df_merged['total_deaths_staff']==0,0,1)\n",
    "\n",
    "# Calculating target features for two mortality rates\n",
    "#df_merged['res_rate_75_up'] = np.where(df_merged['res_rate']>=res_rate_75_up,1,0)\n",
    "#df_merged['staff_rate_75_up'] = np.where(df_merged['staff_rate']>=staff_rate_75_up,1,0)"
   ]
  },
  {
   "cell_type": "code",
   "execution_count": 49,
   "metadata": {},
   "outputs": [],
   "source": [
    "# Creating four different target features infections and fatalities among residents and staff (No Case, Confirmed Cases)\n",
    "df_merged['inf_res'] = np.where(df_merged['total_inf_res']==0,0,1)\n",
    "df_merged['inf_staff'] = np.where(df_merged['total_inf_staff']==0,0,1)\n",
    "df_merged['deaths_res'] = np.where(df_merged['total_deaths_res']==0,0,1)\n",
    "df_merged['deaths_staff'] = np.where(df_merged['total_deaths_staff']==0,0,1)\n",
    "\n",
    "# Calculating target features for two mortality rates\n",
    "#df_merged['res_rate_75_up'] = np.where(df_merged['res_rate']>=res_rate_75_up,1,0)\n",
    "#df_merged['staff_rate_75_up'] = np.where(df_merged['staff_rate']>=staff_rate_75_up,1,0)"
   ]
  },
  {
   "cell_type": "markdown",
   "metadata": {},
   "source": [
    "### 5.4 Convert Independant Variables in Binary Values (Used for the Univariate Analyses)"
   ]
  },
  {
   "cell_type": "raw",
   "metadata": {},
   "source": [
    "# Setting the median as threshold in order to allow the calculation of odds ratios between low and high feature values\n",
    "beds_median = df_merged.loc[:,'total_beds'].median()\n",
    "fed_def_median = df_merged.loc[:,'fed_def'].median()\n",
    "rating_median = df_merged.loc[:,'rating'].median()\n",
    "fines_excl_0_median = df_merged.loc[df_merged['total_fine']!=0,'total_fine'].median()\n",
    "paymcaid_median = df_merged.loc[:,'paymcaid'].median()\n",
    "county_excess_median = df_merged.loc[:,'county_excess'].median()\n",
    "herfindahl_median = df_merged.loc[:,'herfindahl'].median()\n",
    "years_median = df_merged.loc[:,'years'].median()\n",
    "occupancy_median = df_merged.loc[:,'occupancy'].median()\n",
    "minority_median = df_merged.loc[:,'minority'].median()\n",
    "county_cases_100_median = df_merged.loc[:,'county_cases_100'].median()\n",
    "county_deaths_100_median = df_merged.loc[:,'county_deaths_100'].median()\n",
    "#county_rate_100_median = df_merged.loc[:,'county_rate_100'].median()"
   ]
  },
  {
   "cell_type": "raw",
   "metadata": {},
   "source": [
    "# Creating a new data frame for the odds ratio calculation\n",
    "df_binary = df_merged[['provider_number',\n",
    "                       'inf_res',\n",
    "                       'inf_staff',\n",
    "                       'deaths_res',\n",
    "                       'deaths_staff',\n",
    "                       #'res_rate_75_up',\n",
    "                       #'staff_rate_75_up'\n",
    "                      ]]"
   ]
  },
  {
   "cell_type": "raw",
   "metadata": {},
   "source": [
    "# Converting the remaining features into binary values\n",
    "df_binary['beds_high'] = np.where((df_merged['total_beds']>0) &(df_merged['total_beds']>=beds_median),1,0)\n",
    "df_binary['years_high'] = np.where(df_merged['years']>=years_median,1,0)\n",
    "df_binary['for_profit'] = df_merged['for_profit']\n",
    "df_binary['multifac'] = df_merged['multifac']\n",
    "df_binary['urban'] = df_merged['urban']\n",
    "df_binary['occupancy_low'] = np.where(df_merged['occupancy']<occupancy_median,1,0)\n",
    "df_binary['rating_low'] = np.where(df_merged['rating']<rating_median,1,0)\n",
    "df_binary['fed_def_high'] = np.where(df_merged['fed_def']>=fed_def_median,1,0)\n",
    "df_binary['serious_fed_def'] = np.where(df_merged['serious_fed_def']>0,1,0)\n",
    "df_binary['infection_def'] = np.where(df_merged['infection_def']>0,1,0)\n",
    "df_binary['fine'] = np.where(df_merged['total_fine']==0,0,1)\n",
    "df_binary['fine_high'] = np.where((df_merged['total_fine']>0) & (df_merged['total_fine']>=fines_excl_0_median),1,0)\n",
    "df_binary['rn_staff_low'] = np.where(df_merged['rn_staff']<0.75,1,0)\n",
    "df_binary['total_staff_low'] = np.where(df_merged['total_staff']<4.1,1,0)\n",
    "df_binary['paymcaid_high'] = np.where(df_merged['paymcaid']>=paymcaid_median,1,0)\n",
    "df_binary['minority_high'] = np.where(df_merged['minority']>=minority_median,1,0)\n",
    "df_binary['county_excess_high'] = np.where(df_merged['county_excess']>=county_excess_median,1,0)\n",
    "df_binary['herfindahl_low'] = np.where(np.isnan(df_merged['herfindahl']),np.nan,np.where(df_merged['herfindahl']<herfindahl_median,1,0))\n",
    "df_binary['county_cases_100_high'] = np.where(df_merged['county_cases_100']>=county_cases_100_median,1,0)\n",
    "df_binary['county_deaths_100_high'] = np.where(df_merged['county_deaths_100']>=county_deaths_100_median,1,0)\n",
    "df_binary['county_rate_100_high'] = np.where(df_merged['county_rate_100']>=county_rate_100_median,1,0)"
   ]
  },
  {
   "cell_type": "markdown",
   "metadata": {},
   "source": [
    "### 5.5 Reorder and Export Data Frames"
   ]
  },
  {
   "cell_type": "markdown",
   "metadata": {},
   "source": [
    "#### 5.5.1 Main Data Frame"
   ]
  },
  {
   "cell_type": "code",
   "execution_count": 50,
   "metadata": {},
   "outputs": [],
   "source": [
    "# Converting columns from a float to an integer\n",
    "cols = ['rating',\n",
    "        'total_fine',\n",
    "        'total_inf_res',\n",
    "        'total_inf_staff',\n",
    "        'total_beds',\n",
    "        'total_deaths_res',\n",
    "        'total_deaths_staff',\n",
    "        'multifac',\n",
    "        'fed_def',\n",
    "        'serious_fed_def',\n",
    "        'infection_def',\n",
    "        'county_excess',\n",
    "        'county_cases_100',\n",
    "        'county_deaths_100']\n",
    "\n",
    "for cols in cols:\n",
    "    df_merged[cols] = df_merged[cols].apply(lambda x: int(x) if x == x else \"\")"
   ]
  },
  {
   "cell_type": "code",
   "execution_count": 51,
   "metadata": {},
   "outputs": [],
   "source": [
    "# Reordering the structure in the data frame\n",
    "df_merged = df_merged[['inf_res',\n",
    "                       'inf_staff',\n",
    "                       'deaths_res',\n",
    "                       'deaths_staff',\n",
    "                       'total_inf_res',\n",
    "                       'total_inf_staff',\n",
    "                       'total_deaths_res',\n",
    "                       'total_deaths_staff',\n",
    "                       #'res_rate',\n",
    "                       #'staff_rate',\n",
    "                       'total_beds',\n",
    "                       'years',\n",
    "                       'for_profit',\n",
    "                       'multifac',\n",
    "                       'urban',\n",
    "                       'occupancy',\n",
    "                       'rating',\n",
    "                       'fed_def',\n",
    "                       'serious_fed_def',\n",
    "                       'infection_def',\n",
    "                       'total_fine',\n",
    "                       'rn_staff',\n",
    "                       'total_staff',\n",
    "                       'paymcaid',\n",
    "                       'minority',\n",
    "                       'county_excess',\n",
    "                       'herfindahl',\n",
    "                       'county_cases_100',\n",
    "                       'county_deaths_100',\n",
    "                       #'county_rate_100'\n",
    "                      ]]"
   ]
  },
  {
   "cell_type": "markdown",
   "metadata": {},
   "source": [
    "#### 5.5.2 Univariate Analyses Data Frame"
   ]
  },
  {
   "cell_type": "raw",
   "metadata": {},
   "source": [
    "# Converting columns from a float to an integer\n",
    "cols = ['multifac',\n",
    "        'herfindahl_low']\n",
    "\n",
    "for cols in cols:\n",
    "    df_binary[cols] = df_binary[cols].apply(lambda x: int(x) if x == x else \"\")"
   ]
  },
  {
   "cell_type": "raw",
   "metadata": {},
   "source": [
    "with pd.ExcelWriter('02_Data Processing\\odds_data_frame.xlsx') as writer:  \n",
    "    df_binary.to_excel(writer, sheet_name='odds_data_frame',index=False)"
   ]
  },
  {
   "cell_type": "markdown",
   "metadata": {},
   "source": [
    "## 6 Describe the Data Frame"
   ]
  },
  {
   "cell_type": "markdown",
   "metadata": {},
   "source": [
    "### 6.1 Generate Descriptive Statistics"
   ]
  },
  {
   "cell_type": "raw",
   "metadata": {
    "scrolled": true
   },
   "source": [
    "# Creating a summary table\n",
    "df_desc = df_merged.describe()\n",
    "\n",
    "# Adding the standard deviation metric to the summary table\n",
    "df_desc.loc['-2_std'] = df_desc.loc['mean'] - (df_desc.loc['std'] * 2)\n",
    "df_desc.loc['+2_std'] = df_desc.loc['mean'] + (df_desc.loc['std'] * 2)\n",
    "\n",
    "# Printing the summary table\n",
    "df_desc"
   ]
  },
  {
   "cell_type": "markdown",
   "metadata": {},
   "source": [
    "### 6.2 Create Correlation Matrix"
   ]
  },
  {
   "cell_type": "code",
   "execution_count": 52,
   "metadata": {
    "scrolled": false
   },
   "outputs": [
    {
     "data": {
      "text/plain": [
       "<matplotlib.axes._subplots.AxesSubplot at 0x2285bd2a808>"
      ]
     },
     "execution_count": 52,
     "metadata": {},
     "output_type": "execute_result"
    },
    {
     "data": {
      "image/png": "[encoded data removed]",
      "text/plain": [
       "<Figure size 792x648 with 2 Axes>"
      ]
     },
     "metadata": {
      "needs_background": "light"
     },
     "output_type": "display_data"
    }
   ],
   "source": [
    "# Creating a correlation matrix\n",
    "corr = df_merged.corr()\n",
    "mask = np.triu(np.ones_like(corr, dtype=np.bool))\n",
    "\n",
    "# Setting up the matplotlib figure\n",
    "f, ax = plt.subplots(figsize=(11, 9))\n",
    "\n",
    "# Generating a custom diverging colormap\n",
    "cmap = sns.diverging_palette(220, 10, as_cmap=True)\n",
    "\n",
    "# Drawing the heatmap with the mask and correct aspect ratio\n",
    "sns.heatmap(corr, mask=mask, cmap=cmap, vmax=.3, center=0,\n",
    "            square=True, linewidths=.5, cbar_kws={\"shrink\": .5})"
   ]
  },
  {
   "cell_type": "markdown",
   "metadata": {},
   "source": [
    "## 7 Predictive Modeling"
   ]
  },
  {
   "cell_type": "markdown",
   "metadata": {},
   "source": [
    "### 7.1 Data wrangling"
   ]
  },
  {
   "cell_type": "markdown",
   "metadata": {},
   "source": [
    "#### 7.1.1 Select Target Variables"
   ]
  },
  {
   "cell_type": "code",
   "execution_count": 53,
   "metadata": {},
   "outputs": [],
   "source": [
    "# Dropping other target variables since inf_res is the target variable for this model\n",
    "df_merged = df_merged.drop(['inf_staff',\n",
    "                            'deaths_res',\n",
    "                            'deaths_staff',\n",
    "                            'total_inf_res',\n",
    "                            'total_inf_staff',\n",
    "                            'total_deaths_res',\n",
    "                            'total_deaths_staff'\n",
    "                           ],axis=1)"
   ]
  },
  {
   "cell_type": "code",
   "execution_count": 54,
   "metadata": {},
   "outputs": [],
   "source": [
    "# Dropping the multifac variable due to the lack of statistical significance demonstrated \n",
    "# in the univarate and bivariate analyses\n",
    "df_merged = df_merged.drop(['multifac'\n",
    "                           ],axis=1)"
   ]
  },
  {
   "cell_type": "markdown",
   "metadata": {},
   "source": [
    "####  <font color='grey'>7.1.3 Encode Target Variablen (Not applied)</font>"
   ]
  },
  {
   "cell_type": "markdown",
   "metadata": {},
   "source": [
    "Not required as the target variables are already encoded in the previous transformation process."
   ]
  },
  {
   "cell_type": "raw",
   "metadata": {},
   "source": [
    "encoder = LabelEncoder()\n",
    "\n",
    "# label encoding the target variable column\n",
    "df_merged['inf_res'] = encoder.fit_transform(df_merged['inf_res'])"
   ]
  },
  {
   "cell_type": "markdown",
   "metadata": {},
   "source": [
    "#### 7.1.4 Split Data Frame into Independent and Dependent Variables"
   ]
  },
  {
   "cell_type": "code",
   "execution_count": 55,
   "metadata": {},
   "outputs": [],
   "source": [
    "# Splitting the data into independent 'X' and dependent 'Y' variables\n",
    "X = df_merged.drop(columns=['inf_res']).values\n",
    "Y = df_merged.filter(['inf_res']).values"
   ]
  },
  {
   "cell_type": "markdown",
   "metadata": {},
   "source": [
    "#### 7.1.5 Split Data Frame in Training and Testing Data"
   ]
  },
  {
   "cell_type": "code",
   "execution_count": 56,
   "metadata": {},
   "outputs": [],
   "source": [
    "# Splitting the data set into 80% training data and 20% testing data\n",
    "X_train, X_test, Y_train, Y_test = train_test_split(X, Y, test_size = 0.2, random_state = 0)"
   ]
  },
  {
   "cell_type": "markdown",
   "metadata": {},
   "source": [
    "#### 7.1.6 Scale Data"
   ]
  },
  {
   "cell_type": "code",
   "execution_count": 57,
   "metadata": {},
   "outputs": [],
   "source": [
    "# Scaling the data to bring all features to the same level of magnitude\n",
    "sc = StandardScaler()\n",
    "X_train = sc.fit_transform(X_train)\n",
    "X_test = sc.transform(X_test)"
   ]
  },
  {
   "cell_type": "markdown",
   "metadata": {},
   "source": [
    "### 7.2 Select Model"
   ]
  },
  {
   "cell_type": "markdown",
   "metadata": {},
   "source": [
    "#### 7.2.1 Machine Learning Models"
   ]
  },
  {
   "cell_type": "markdown",
   "metadata": {},
   "source": [
    "The following section evaluates a total of six machine learning models (Logistic Regression, Nearest Neighbor, Support Vector Machine, Naïve Bayes, Decision Tree, Random Forest). The stacking model in which different machine learning models are combined is not used due to its poor performance and time consuming calculations."
   ]
  },
  {
   "cell_type": "raw",
   "metadata": {},
   "source": [
    "# Creating a stacking ensemble of models function\n",
    "def get_stacking():\n",
    "    \n",
    "    # Defining the base models\n",
    "    level0 = list()\n",
    "    level0.append(('log', LogisticRegression(random_state=0)))\n",
    "    level0.append(('knn', KNeighborsClassifier(n_neighbors=5,metric='minkowski',p=2)))\n",
    "    level0.append(('svc_lin', SVC(kernel='linear',random_state=0)))\n",
    "    level0.append(('gauss', GaussianNB()))\n",
    "    level0.append(('tree', DecisionTreeClassifier(criterion='entropy',random_state=0)))\n",
    "    level0.append(('forest', RandomForestClassifier(n_estimators=100,max_features='auto',oob_score=True,random_state=1,n_jobs=-1)))\n",
    "                   \n",
    "    # Defining meta learner model\n",
    "    level1 = LogisticRegression()\n",
    "                   \n",
    "    # define the stacking ensemble\n",
    "    model = StackingClassifier(estimators=level0,final_estimator=level1,cv=5)\n",
    "    return model"
   ]
  },
  {
   "cell_type": "code",
   "execution_count": 58,
   "metadata": {},
   "outputs": [
    {
     "name": "stdout",
     "output_type": "stream",
     "text": [
      ">log 0.7376 (0.0134)\n",
      ">knn 0.7033 (0.0141)\n",
      ">svc_lin 0.7372 (0.0146)\n",
      ">gauss 0.6918 (0.0143)\n",
      ">tree 0.6686 (0.0168)\n",
      ">forest 0.7457 (0.0109)\n"
     ]
    }
   ],
   "source": [
    "# Creating a list of models to evaluate\n",
    "def get_models():\n",
    "    models = dict()\n",
    "    models['log'] = LogisticRegression(random_state=0)\n",
    "    models['knn'] = KNeighborsClassifier(n_neighbors=5,metric='minkowski',p=2)\n",
    "    models['svc_lin'] = SVC(kernel='linear',random_state=0)\n",
    "    models['gauss'] = GaussianNB()\n",
    "    models['tree'] = DecisionTreeClassifier(criterion='entropy',random_state=0)\n",
    "    models['forest'] = RandomForestClassifier(n_estimators=100,max_features='auto',oob_score=True,random_state=1,n_jobs=-1)\n",
    "    #models['stacking'] = get_stacking()\n",
    "    return models\n",
    "\n",
    "# Creating a function to evaluate a given model using cross-validation\n",
    "def evaluate_model(model, X, Y):\n",
    "    scores = cross_val_score(model,X,Y,scoring='accuracy',cv=10)\n",
    "    return scores\n",
    "\n",
    "# Assigning the models to evaluate\n",
    "models = get_models()\n",
    "\n",
    "# Evaluating the models\n",
    "model_results, names = list(), list()\n",
    "for name, model in models.items():\n",
    "    scores = evaluate_model(model,X_train,Y_train)\n",
    "    model_results.append(scores)\n",
    "    names.append(name)\n",
    "    print('>%s %.4f (%.4f)' % (name, mean(scores), std(scores)))\n",
    "\n",
    "# Saving the results of all models including the stacking ensemble in order to save time to reproduce the results \n",
    "np.save('model_results.npy', model_results)"
   ]
  },
  {
   "cell_type": "code",
   "execution_count": 59,
   "metadata": {},
   "outputs": [],
   "source": [
    "# Loading the results and assigning the model names to the variable names\n",
    "model_results = np.load('model_results.npy').tolist()\n",
    "names = ['log','knn','svc_lin','gauss','tree','forest']"
   ]
  },
  {
   "cell_type": "markdown",
   "metadata": {},
   "source": [
    "#### 7.2.2 Keras Neural Network"
   ]
  },
  {
   "cell_type": "code",
   "execution_count": 60,
   "metadata": {},
   "outputs": [
    {
     "name": "stdout",
     "output_type": "stream",
     "text": [
      "WARNING:tensorflow:From C:\\Users\\44792\\anaconda3\\lib\\site-packages\\tensorflow\\python\\ops\\nn_impl.py:180: add_dispatch_support.<locals>.wrapper (from tensorflow.python.ops.array_ops) is deprecated and will be removed in a future version.\n",
      "Instructions for updating:\n",
      "Use tf.where in 2.0, which has the same broadcast rule as np.where\n",
      "WARNING:tensorflow:From C:\\Users\\44792\\anaconda3\\lib\\site-packages\\keras\\backend\\tensorflow_backend.py:422: The name tf.global_variables is deprecated. Please use tf.compat.v1.global_variables instead.\n",
      "\n",
      "1046/1046 [==============================] - 0s 16us/step\n",
      ">keras 0.7505 (0.0000)\n",
      "1046/1046 [==============================] - 0s 15us/step\n",
      ">keras 0.7328 (0.0177)\n",
      "1046/1046 [==============================] - 0s 17us/step\n",
      ">keras 0.7333 (0.0145)\n",
      "1046/1046 [==============================] - 0s 16us/step\n",
      ">keras 0.7349 (0.0129)\n",
      "1046/1046 [==============================] - 0s 16us/step\n",
      ">keras 0.7390 (0.0141)\n",
      "1046/1046 [==============================] - 0s 15us/step\n",
      ">keras 0.7408 (0.0134)\n",
      "1045/1045 [==============================] - 0s 16us/step\n",
      ">keras 0.7457 (0.0173)\n",
      "1045/1045 [==============================] - 0s 17us/step\n",
      ">keras 0.7440 (0.0168)\n",
      "1045/1045 [==============================] - 0s 18us/step\n",
      ">keras 0.7413 (0.0176)\n",
      "1045/1045 [==============================] - 0s 17us/step\n",
      ">keras 0.7423 (0.0169)\n",
      ">keras 0.7423 (0.0169)\n"
     ]
    }
   ],
   "source": [
    "fold_no = 1\n",
    "keras_results = list()\n",
    "scores = []\n",
    "\n",
    "for idx in KFold(n_splits=10).split(X_train):\n",
    "\n",
    "    # Defining the keras model\n",
    "    model = Sequential()\n",
    "    model.add(Dense(16, input_dim=18, activation='relu'))\n",
    "    model.add(Dropout(0.4))\n",
    "    model.add(Dense(8, activation='relu'))\n",
    "    model.add(Dense(1, activation='sigmoid'))\n",
    "    \n",
    "    # Compiling the keras model\n",
    "    model.compile(loss='binary_crossentropy', optimizer='adam', metrics=['accuracy'])\n",
    "    \n",
    "    # Fitting the keras model on the dataset\n",
    "    history = model.fit(X_train[idx[0]],Y_train[idx[0]],validation_data=(X_test,Y_test),epochs=100,batch_size=150,verbose=0)\n",
    "\n",
    "    # Applying a k-fold validation of the data set\n",
    "    score = model.evaluate(X_train[idx[1]],Y_train[idx[1]],verbose=1)\n",
    "    scores.append(score[1])\n",
    "\n",
    "    # Increasing fold number by 1\n",
    "    fold_no = fold_no + 1\n",
    "    \n",
    "    name = 'keras'\n",
    "    print('>%s %.4f (%.4f)' % (name, mean(scores), std(scores)))\n",
    "\n",
    "scores = np.array(scores)\n",
    "keras_results.append(np.array(scores))\n",
    "\n",
    "name = 'keras'\n",
    "print('>%s %.4f (%.4f)' % (name, mean(scores), std(scores)))\n",
    "\n",
    "# Saving the results of all models including the stacking ensemble in order to save time to reproduce the results \n",
    "np.save('keras_results.npy', keras_results)"
   ]
  },
  {
   "cell_type": "code",
   "execution_count": 61,
   "metadata": {},
   "outputs": [
    {
     "data": {
      "image/png": "[encoded data removed]",
      "text/plain": [
       "<Figure size 432x288 with 1 Axes>"
      ]
     },
     "metadata": {
      "needs_background": "light"
     },
     "output_type": "display_data"
    }
   ],
   "source": [
    "# Visualising the model accuracy\n",
    "plt.plot(history.history['accuracy']) \n",
    "plt.plot(history.history['val_accuracy']) \n",
    "plt.title('model accuracy')\n",
    "plt.ylabel('accuracy')\n",
    "plt.xlabel('epoch') \n",
    "plt.legend(['train', 'test'], loc='upper left') \n",
    "plt.show()"
   ]
  },
  {
   "cell_type": "code",
   "execution_count": 62,
   "metadata": {},
   "outputs": [],
   "source": [
    "# Loading the results\n",
    "keras_results = np.load('keras_results.npy').tolist()"
   ]
  },
  {
   "cell_type": "markdown",
   "metadata": {},
   "source": [
    "#### 7.2.9 Model Comparison"
   ]
  },
  {
   "cell_type": "code",
   "execution_count": 63,
   "metadata": {},
   "outputs": [],
   "source": [
    "# Combining the results of the models\n",
    "model_results.append(keras_results[0])\n",
    "names.append('keras')"
   ]
  },
  {
   "cell_type": "code",
   "execution_count": 64,
   "metadata": {},
   "outputs": [
    {
     "data": {
      "image/png": "[encoded data removed]",
      "text/plain": [
       "<Figure size 432x288 with 1 Axes>"
      ]
     },
     "metadata": {
      "needs_background": "light"
     },
     "output_type": "display_data"
    }
   ],
   "source": [
    "# Plotting performance of models for comparison\n",
    "plt.boxplot(model_results, labels=names, showmeans=True)\n",
    "plt.title('model accuracy')\n",
    "plt.ylabel('k-fold accuracy')\n",
    "plt.xlabel('machine learning models') \n",
    "plt.show()"
   ]
  },
  {
   "cell_type": "markdown",
   "metadata": {},
   "source": [
    "### 7.3 Tree Based Feature Selection"
   ]
  },
  {
   "cell_type": "markdown",
   "metadata": {},
   "source": [
    "#### 7.3.1 Random Forest Classification Algorithm"
   ]
  },
  {
   "cell_type": "code",
   "execution_count": 65,
   "metadata": {},
   "outputs": [
    {
     "data": {
      "text/plain": [
       "RandomForestClassifier(bootstrap=True, ccp_alpha=0.0, class_weight=None,\n",
       "                       criterion='gini', max_depth=None, max_features='auto',\n",
       "                       max_leaf_nodes=None, max_samples=None,\n",
       "                       min_impurity_decrease=0.0, min_impurity_split=None,\n",
       "                       min_samples_leaf=1, min_samples_split=2,\n",
       "                       min_weight_fraction_leaf=0.0, n_estimators=100,\n",
       "                       n_jobs=-1, oob_score=True, random_state=1, verbose=0,\n",
       "                       warm_start=False)"
      ]
     },
     "execution_count": 65,
     "metadata": {},
     "output_type": "execute_result"
    }
   ],
   "source": [
    "# Running the random forest classification algorithm again as only the results were saved in the previous steps\n",
    "forest = RandomForestClassifier(n_estimators=100,max_features='auto',oob_score=True,random_state=1,n_jobs=-1)\n",
    "forest.fit(X_train,Y_train)"
   ]
  },
  {
   "cell_type": "markdown",
   "metadata": {},
   "source": [
    "#### 7.3.2 Determine Feature Importance"
   ]
  },
  {
   "cell_type": "code",
   "execution_count": 66,
   "metadata": {},
   "outputs": [
    {
     "data": {
      "text/plain": [
       "Text(0, 0.5, 'feature importance')"
      ]
     },
     "execution_count": 66,
     "metadata": {},
     "output_type": "execute_result"
    },
    {
     "data": {
      "image/png": "[encoded data removed]",
      "text/plain": [
       "<Figure size 432x288 with 1 Axes>"
      ]
     },
     "metadata": {
      "needs_background": "light"
     },
     "output_type": "display_data"
    }
   ],
   "source": [
    "# Determining the 20 most important features for the chosen machine learning model\n",
    "importances = pd.DataFrame({'features':df_merged.drop(columns=['inf_res']).columns,\n",
    "                            'importance':np.round(forest.feature_importances_,3)})\n",
    "importances = importances.sort_values('importance',ascending=False).set_index('features')\n",
    "importances.head(20).plot.bar()\n",
    "plt.title('feature importance ranking (random forest)')\n",
    "plt.ylabel('feature importance')"
   ]
  },
  {
   "cell_type": "markdown",
   "metadata": {},
   "source": [
    "#### 7.3.3 Drop Least Important Features"
   ]
  },
  {
   "cell_type": "code",
   "execution_count": 67,
   "metadata": {},
   "outputs": [],
   "source": [
    "# Dropping features due to a lack of statistical importance for the model\n",
    "# County Cases and Deaths are dropped as they include also cases from nursing homes and thus artificially \n",
    "# improve the models performance\n",
    "df_merged = df_merged.drop(['for_profit',\n",
    "                            'urban',\n",
    "                            'rating',\n",
    "                            'serious_fed_def',\n",
    "                            'infection_def',\n",
    "                            'total_fine',\n",
    "                            #'county_cases_100',\n",
    "                            #'county_deaths_100',\n",
    "                           ],axis=1)"
   ]
  },
  {
   "cell_type": "markdown",
   "metadata": {},
   "source": [
    "### 7.4 Data Wrangling of Data Frame with Important Features"
   ]
  },
  {
   "cell_type": "markdown",
   "metadata": {},
   "source": [
    "#### 7.4.1 Split Data Frame into Independent and Dependent Variables"
   ]
  },
  {
   "cell_type": "code",
   "execution_count": 68,
   "metadata": {},
   "outputs": [],
   "source": [
    "# Splitting the data into independent 'X' and dependent 'Y' variables\n",
    "X_short = df_merged.drop(columns=['inf_res']).values\n",
    "Y_short = df_merged.filter(['inf_res']).values"
   ]
  },
  {
   "cell_type": "markdown",
   "metadata": {},
   "source": [
    "#### 7.4.2 Split Data Frame in Training and Testing Data"
   ]
  },
  {
   "cell_type": "code",
   "execution_count": 69,
   "metadata": {},
   "outputs": [],
   "source": [
    "# Splitting the data set into 80% training data and 20% testing data\n",
    "X_train_short, X_test_short, Y_train_short, Y_test_short = train_test_split(X_short, Y_short, test_size = 0.2, random_state = 0)"
   ]
  },
  {
   "cell_type": "markdown",
   "metadata": {},
   "source": [
    "#### 7.4.3 Scale Data"
   ]
  },
  {
   "cell_type": "code",
   "execution_count": 70,
   "metadata": {},
   "outputs": [],
   "source": [
    "# Scaling the data to bring all features to the same level of magnitude\n",
    "sc = StandardScaler()\n",
    "X_train_short = sc.fit_transform(X_train_short)\n",
    "X_test_short = sc.transform(X_test_short)"
   ]
  },
  {
   "cell_type": "markdown",
   "metadata": {},
   "source": [
    "### 7.5 Hyperparameter Tuning (Random Forest Classification Algorithm)"
   ]
  },
  {
   "cell_type": "raw",
   "metadata": {},
   "source": [
    "# Creating different options for tuning for the parameters criterion, min_samples_leaf, min_samples_split and n_estimators\n",
    "param_grid = {\"criterion\":[\"gini\",\"entropy\"],\"min_samples_leaf\":[1,5,10,25,50,70],\"min_samples_split\":[2,4,10,12,16,18,25,35],\"n_estimators\":[100,400,700,1000,1500]}\n",
    "\n",
    "# Searching for optimal parameters\n",
    "forest = RandomForestClassifier(n_estimators=100,max_features='auto',oob_score=True,random_state=1,n_jobs=-1)\n",
    "clf = GridSearchCV(estimator=forest,param_grid=param_grid,n_jobs=-1)\n",
    "clf.fit(X_train_short, Y_train_short)\n",
    "\n",
    "print('The parameters combination that would give best accuracy is:')\n",
    "print(clf.best_params_)\n",
    "print('-'*100)\n",
    "print('The best accuracy achieved after parameter tuning via grid search is:',round(clf.best_score_,4))"
   ]
  },
  {
   "cell_type": "raw",
   "metadata": {},
   "source": [
    "# Saving the result of the hyperparameter tuning as it is highly time and resource consuming\n",
    "The parameters combination that would give best accuracy is:\n",
    "{'criterion': 'gini', 'min_samples_leaf': 5, 'min_samples_split': 2, 'n_estimators': 1500}\n",
    "----------------------------------------------------------------------------------------------------\n",
    "The best accuracy achieved after parameter tuning via grid search is: 0.7519"
   ]
  },
  {
   "cell_type": "markdown",
   "metadata": {},
   "source": [
    "### 7.6 Run Random Forest Classification Algorithm"
   ]
  },
  {
   "cell_type": "code",
   "execution_count": 71,
   "metadata": {},
   "outputs": [
    {
     "name": "stdout",
     "output_type": "stream",
     "text": [
      ">forest 0.7497 (0.0119)\n"
     ]
    }
   ],
   "source": [
    "# Creating a list of models to evaluate\n",
    "def get_models():\n",
    "    models = dict()\n",
    "    models['forest'] = RandomForestClassifier(n_estimators=1500,criterion='gini',min_samples_split=2,min_samples_leaf=5)\n",
    "    return models\n",
    "\n",
    "# Creating a function to evaluate a given model using cross-validation\n",
    "def evaluate_model(model, X_train_short, Y_train_short):\n",
    "    scores = cross_val_score(model,X_train_short,Y_train_short,scoring='accuracy',cv=10)\n",
    "    return scores\n",
    "\n",
    "# Assigning the models to evaluate\n",
    "models = get_models()\n",
    "\n",
    "# Evaluating the models\n",
    "for name, model in models.items():\n",
    "    scores = evaluate_model(model,X_train_short,Y_train_short)\n",
    "    model_results.append(scores)\n",
    "    names.append('forest2')\n",
    "    print('>%s %.4f (%.4f)' % (name, mean(scores), std(scores)))\n",
    "\n",
    "# Saving the results of all models including the stacking ensemble in order to save time to reproduce the results \n",
    "np.save('model_results2.npy', model_results)"
   ]
  },
  {
   "cell_type": "code",
   "execution_count": 72,
   "metadata": {},
   "outputs": [
    {
     "data": {
      "text/plain": [
       "RandomForestClassifier(bootstrap=True, ccp_alpha=0.0, class_weight=None,\n",
       "                       criterion='gini', max_depth=None, max_features='auto',\n",
       "                       max_leaf_nodes=None, max_samples=None,\n",
       "                       min_impurity_decrease=0.0, min_impurity_split=None,\n",
       "                       min_samples_leaf=5, min_samples_split=2,\n",
       "                       min_weight_fraction_leaf=0.0, n_estimators=1500,\n",
       "                       n_jobs=None, oob_score=False, random_state=None,\n",
       "                       verbose=0, warm_start=False)"
      ]
     },
     "execution_count": 72,
     "metadata": {},
     "output_type": "execute_result"
    }
   ],
   "source": [
    "# Using RandomForestClassifier method of ensemble class to use Random Forest Classification algorithm\n",
    "forest = RandomForestClassifier(n_estimators=1500,criterion='gini',min_samples_split=2,min_samples_leaf=5)\n",
    "forest.fit(X_train_short,Y_train_short)"
   ]
  },
  {
   "cell_type": "code",
   "execution_count": 73,
   "metadata": {},
   "outputs": [],
   "source": [
    "model_results2 = np.load('model_results2.npy').tolist()\n",
    "names = ['log','knn','svc_lin','gauss','tree','forest','keras','forest2']"
   ]
  },
  {
   "cell_type": "code",
   "execution_count": 74,
   "metadata": {},
   "outputs": [
    {
     "data": {
      "image/png": "[encoded data removed]",
      "text/plain": [
       "<Figure size 432x288 with 1 Axes>"
      ]
     },
     "metadata": {
      "needs_background": "light"
     },
     "output_type": "display_data"
    }
   ],
   "source": [
    "# Plotting performance of models for comparison\n",
    "plt.boxplot(model_results2, labels=names, showmeans=True)\n",
    "plt.title('model accuracy')\n",
    "plt.ylabel('k-fold accuracy')\n",
    "plt.xlabel('machine learning models') \n",
    "plt.show()"
   ]
  },
  {
   "cell_type": "markdown",
   "metadata": {},
   "source": [
    "### 7.7 Evaluate Random Forest Classification Algorithm"
   ]
  },
  {
   "cell_type": "markdown",
   "metadata": {},
   "source": [
    "#### 7.7.1 Confusion Matrix"
   ]
  },
  {
   "cell_type": "code",
   "execution_count": 75,
   "metadata": {},
   "outputs": [
    {
     "data": {
      "image/png": "[encoded data removed]",
      "text/plain": [
       "<Figure size 432x288 with 2 Axes>"
      ]
     },
     "metadata": {
      "needs_background": "light"
     },
     "output_type": "display_data"
    }
   ],
   "source": [
    "from sklearn.model_selection import cross_val_predict\n",
    "# Creating a function to visualise a multi class confusion matrix\n",
    "def plot_confusion_matrix(cm, classes,\n",
    "                          normalize=False,\n",
    "                          title='Confusion matrix',\n",
    "                          cmap=plt.cm.Blues):\n",
    "    import itertools\n",
    "    if normalize:\n",
    "        cm = cm.astype('float') / cm.sum(axis=1)[:, np.newaxis]\n",
    "\n",
    "    plt.imshow(cm, interpolation='nearest', cmap=cmap)\n",
    "    plt.title(title)\n",
    "    plt.colorbar()\n",
    "    tick_marks = np.arange(len(classes))\n",
    "    plt.xticks(tick_marks, classes, rotation=45)\n",
    "    plt.yticks(tick_marks, classes)\n",
    "\n",
    "    fmt = '.2f' if normalize else 'd'\n",
    "    thresh = cm.max() / 2.\n",
    "    for i, j in itertools.product(range(cm.shape[0]), range(cm.shape[1])):\n",
    "        plt.text(j, i, format(cm[i, j], fmt),\n",
    "                 horizontalalignment=\"center\",\n",
    "                 color=\"white\" if cm[i, j] > thresh else \"black\")\n",
    "    plt.ylim(len(classes)-0.5,-0.5)\n",
    "    plt.ylabel('True label')\n",
    "    plt.xlabel('Predicted label')\n",
    "    plt.tight_layout()\n",
    "\n",
    "# Creating the multi class confusion matrix and applying the new function\n",
    "predictions = cross_val_predict(forest, X_train_short, Y_train_short, cv=3)\n",
    "cnf_matrix = confusion_matrix(Y_train, predictions)\n",
    "np.set_printoptions(precision=2)\n",
    "\n",
    "# Plotting non-normalized confusion matrix\n",
    "plt.figure()\n",
    "plot_confusion_matrix(cnf_matrix, classes=['No Cases','Cases'],\n",
    "                      title='Confusion matrix')"
   ]
  },
  {
   "cell_type": "code",
   "execution_count": 76,
   "metadata": {},
   "outputs": [
    {
     "name": "stdout",
     "output_type": "stream",
     "text": [
      "Precision: 0.7542\n",
      "Recall: 0.7801\n",
      "F1 Score: 0.7669\n"
     ]
    }
   ],
   "source": [
    "# Printing additional evaluation scores\n",
    "print(\"Precision:\", round(precision_score(Y_train_short, predictions),4))\n",
    "print(\"Recall:\",round(recall_score(Y_train_short, predictions),4))\n",
    "print(\"F1 Score:\",round(f1_score(Y_train_short, predictions),4))"
   ]
  },
  {
   "cell_type": "markdown",
   "metadata": {},
   "source": [
    "#### 7.7.2 Precision Recall Curve"
   ]
  },
  {
   "cell_type": "code",
   "execution_count": 77,
   "metadata": {},
   "outputs": [
    {
     "data": {
      "image/png": "[encoded data removed]",
      "text/plain": [
       "<Figure size 1008x504 with 1 Axes>"
      ]
     },
     "metadata": {
      "needs_background": "light"
     },
     "output_type": "display_data"
    }
   ],
   "source": [
    "# Getting the probabilities of our predictions\n",
    "y_scores = forest.predict_proba(X_train_short)\n",
    "y_scores = y_scores[:,1]\n",
    "\n",
    "precision, recall, threshold = precision_recall_curve(Y_train_short, y_scores)\n",
    "def plot_precision_and_recall(precision, recall, threshold):\n",
    "    plt.plot(threshold, precision[:-1], \"r-\", label=\"precision\", linewidth=5)\n",
    "    plt.plot(threshold, recall[:-1], \"b\", label=\"recall\", linewidth=5)\n",
    "    plt.xlabel(\"threshold\", fontsize=19)\n",
    "    plt.legend(loc=\"upper right\", fontsize=19)\n",
    "    plt.ylim([0, 1])\n",
    "\n",
    "plt.figure(figsize=(14, 7))\n",
    "plot_precision_and_recall(precision, recall, threshold)\n",
    "plt.show()"
   ]
  },
  {
   "cell_type": "markdown",
   "metadata": {},
   "source": [
    "#### 7.7.3 ROC AUC Curve"
   ]
  },
  {
   "cell_type": "code",
   "execution_count": 78,
   "metadata": {},
   "outputs": [
    {
     "data": {
      "image/png": "[encoded data removed]",
      "text/plain": [
       "<Figure size 1008x504 with 1 Axes>"
      ]
     },
     "metadata": {
      "needs_background": "light"
     },
     "output_type": "display_data"
    }
   ],
   "source": [
    "# Computing true positive rate and false positive rate\n",
    "false_positive_rate, true_positive_rate, thresholds = roc_curve(Y_train_short, y_scores)\n",
    "\n",
    "# Creating a function to plot them against each other\n",
    "def plot_roc_curve(false_positive_rate, true_positive_rate, label=None):\n",
    "    plt.plot(false_positive_rate, true_positive_rate, linewidth=2, label=label)\n",
    "    plt.plot([0, 1], [0, 1], 'r', linewidth=4)\n",
    "    plt.axis([0, 1, 0, 1])\n",
    "    plt.xlabel('False Positive Rate (FPR)', fontsize=16)\n",
    "    plt.ylabel('True Positive Rate (TPR)', fontsize=16)\n",
    "\n",
    "# Plotting them against each other\n",
    "plt.figure(figsize=(14, 7))\n",
    "plot_roc_curve(false_positive_rate, true_positive_rate)\n",
    "plt.show()"
   ]
  },
  {
   "cell_type": "markdown",
   "metadata": {},
   "source": [
    "#### 7.7.4 ROC AUC Score"
   ]
  },
  {
   "cell_type": "code",
   "execution_count": 79,
   "metadata": {},
   "outputs": [
    {
     "name": "stdout",
     "output_type": "stream",
     "text": [
      "ROC-AUC-Score: 0.976\n"
     ]
    }
   ],
   "source": [
    "# Calculating the ROC AUC Score\n",
    "r_a_score = roc_auc_score(Y_train_short, y_scores)\n",
    "print(\"ROC-AUC-Score:\",round(r_a_score,4))"
   ]
  },
  {
   "cell_type": "markdown",
   "metadata": {},
   "source": [
    "## 8 Model deployment (simplified concept with Random Forest Classification Algorithm)"
   ]
  },
  {
   "cell_type": "raw",
   "metadata": {},
   "source": [
    "Example Nursing Home:\n",
    "\n",
    "Federal Provider Number: 165427\n",
    "Provider Name: Newton Health Care Center\n",
    "Provider Address: 200 S 8th Ave East\n",
    "Provider City: Newton\n",
    "Provider State: Iowa\n",
    "\n",
    "Copy variables below and replace it with the input fields in the code below for a faster evaluation:\n",
    "\n",
    "total_beds = 70\n",
    "years = 19.92\n",
    "occupancy = 68.57\n",
    "fed_def = 7\n",
    "rn_staff = 0.39\n",
    "total_staff = 2.52\n",
    "paymcaid = 50\n",
    "minority = 12.5\n",
    "county_excess = 27\n",
    "herfindahl = 50.04\n",
    "county_cases_100 = 1218\n",
    "county_deaths_100 = 65"
   ]
  },
  {
   "cell_type": "code",
   "execution_count": 80,
   "metadata": {},
   "outputs": [
    {
     "name": "stdout",
     "output_type": "stream",
     "text": [
      "Please answer the following 12 questions to determine if the selected nursing home is susceptible to infections.\n",
      "Enter the total number of certified beds:70\n",
      "Enter the number of years the nursing home has been in operation:19.92\n",
      "Enter the proportion of occupied beds:68.57\n",
      "Enter the total number of federal deficiencies within the last 36 months:7\n",
      "Enter the average staffing levels of registered nurses per hours per resident day:0.39\n",
      "Enter the average total staffing levels per hours per resident day:2.52\n",
      "Enter the proportion of facility residents whose primary support is Medicaid:50\n",
      "Enter the proportion of facility residents who are not white:12.5\n",
      "Enter the total number of beds available in the respective county:27\n",
      "Enter the herfindahl index of the respective nursing home:50.04\n",
      "Enter the total number of confirmed infection in the county:1218\n",
      "Enter the total number of confirmed fatalities in the county:65\n",
      "The selected nursing home is susceptible to COVID-19 infections.\n"
     ]
    }
   ],
   "source": [
    "# Creating a 12 question based questenair\n",
    "print('Please answer the following 12 questions to determine if the selected nursing home is susceptible to infections.')\n",
    "\n",
    "# Creating input fields\n",
    "total_beds = int(input('Enter the total number of certified beds:'))\n",
    "years = float(input('Enter the number of years the nursing home has been in operation:'))\n",
    "occupancy = float(input('Enter the proportion of occupied beds:'))\n",
    "fed_def = int(input('Enter the total number of federal deficiencies within the last 36 months:'))\n",
    "rn_staff = float(input('Enter the average staffing levels of registered nurses per hours per resident day:'))\n",
    "total_staff = float(input('Enter the average total staffing levels per hours per resident day:'))\n",
    "paymcaid = float(input('Enter the proportion of facility residents whose primary support is Medicaid:'))\n",
    "minority = float(input('Enter the proportion of facility residents who are not white:'))\n",
    "county_excess = int(input('Enter the total number of beds available in the respective county:'))\n",
    "herfindahl = float(input('Enter the herfindahl index of the respective nursing home:'))\n",
    "county_cases_100 = int(input('Enter the total number of confirmed infection in the county:'))\n",
    "county_deaths_100 = int(input('Enter the total number of confirmed fatalities in the county:'))\n",
    "\n",
    "target = [[total_beds,\n",
    "           years,\n",
    "           occupancy,\n",
    "           fed_def,\n",
    "           rn_staff,\n",
    "           total_staff,\n",
    "           paymcaid,\n",
    "           minority,\n",
    "           county_excess,\n",
    "           herfindahl,\n",
    "           county_cases_100,\n",
    "           county_deaths_100]]\n",
    "\n",
    "pred = forest.predict(target)\n",
    "\n",
    "if pred[0] == 0:\n",
    "    print('The selected nursing home is not susceptible to COVID-19 infections.')\n",
    "else:\n",
    "    print('The selected nursing home is susceptible to COVID-19 infections.')"
   ]
  },
  {
   "cell_type": "code",
   "execution_count": null,
   "metadata": {},
   "outputs": [],
   "source": []
  }
 ],
 "metadata": {
  "kernelspec": {
   "display_name": "Python 3",
   "language": "python",
   "name": "python3"
  },
  "language_info": {
   "codemirror_mode": {
    "name": "ipython",
    "version": 3
   },
   "file_extension": ".py",
   "mimetype": "text/x-python",
   "name": "python",
   "nbconvert_exporter": "python",
   "pygments_lexer": "ipython3",
   "version": "3.8.5"
  }
 },
 "nbformat": 4,
 "nbformat_minor": 4
}
